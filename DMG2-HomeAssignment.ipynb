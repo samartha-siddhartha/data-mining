{
 "cells": [
  {
   "cell_type": "markdown",
   "metadata": {},
   "source": [
    "#### DMG Home Work Assignment "
   ]
  },
  {
   "cell_type": "markdown",
   "metadata": {},
   "source": [
    "#### Name : Samartha Siddhartha\n",
    "#### ISBID : 11910065"
   ]
  },
  {
   "cell_type": "markdown",
   "metadata": {},
   "source": [
    "### PART 1"
   ]
  },
  {
   "cell_type": "code",
   "execution_count": null,
   "metadata": {},
   "outputs": [],
   "source": [
    "import os \n",
    "os.chdir(\"G:\\\\ISBHyderabad\\\\Campus6\\\\DMG2\\\\Assigment\")"
   ]
  },
  {
   "cell_type": "code",
   "execution_count": 11,
   "metadata": {},
   "outputs": [],
   "source": [
    "import pandas as pd \n",
    "import matplotlib.pyplot as plt\n",
    "import seaborn as sns"
   ]
  },
  {
   "cell_type": "code",
   "execution_count": 90,
   "metadata": {},
   "outputs": [],
   "source": [
    "iris_train = pd.read_csv(\"train.csv\")"
   ]
  },
  {
   "cell_type": "code",
   "execution_count": 24,
   "metadata": {},
   "outputs": [
    {
     "data": {
      "text/html": [
       "<div>\n",
       "<style scoped>\n",
       "    .dataframe tbody tr th:only-of-type {\n",
       "        vertical-align: middle;\n",
       "    }\n",
       "\n",
       "    .dataframe tbody tr th {\n",
       "        vertical-align: top;\n",
       "    }\n",
       "\n",
       "    .dataframe thead th {\n",
       "        text-align: right;\n",
       "    }\n",
       "</style>\n",
       "<table border=\"1\" class=\"dataframe\">\n",
       "  <thead>\n",
       "    <tr style=\"text-align: right;\">\n",
       "      <th></th>\n",
       "      <th>Unnamed: 0</th>\n",
       "      <th>Sepal.Length</th>\n",
       "      <th>Sepal.Width</th>\n",
       "      <th>Petal.Length</th>\n",
       "      <th>Petal.Width</th>\n",
       "      <th>Species</th>\n",
       "    </tr>\n",
       "  </thead>\n",
       "  <tbody>\n",
       "    <tr>\n",
       "      <th>0</th>\n",
       "      <td>4</td>\n",
       "      <td>4.6</td>\n",
       "      <td>3.1</td>\n",
       "      <td>1.5</td>\n",
       "      <td>0.2</td>\n",
       "      <td>setosa</td>\n",
       "    </tr>\n",
       "    <tr>\n",
       "      <th>1</th>\n",
       "      <td>7</td>\n",
       "      <td>4.6</td>\n",
       "      <td>3.4</td>\n",
       "      <td>1.4</td>\n",
       "      <td>0.3</td>\n",
       "      <td>setosa</td>\n",
       "    </tr>\n",
       "    <tr>\n",
       "      <th>2</th>\n",
       "      <td>12</td>\n",
       "      <td>4.8</td>\n",
       "      <td>3.4</td>\n",
       "      <td>1.6</td>\n",
       "      <td>0.2</td>\n",
       "      <td>setosa</td>\n",
       "    </tr>\n",
       "    <tr>\n",
       "      <th>3</th>\n",
       "      <td>13</td>\n",
       "      <td>4.8</td>\n",
       "      <td>3.0</td>\n",
       "      <td>1.4</td>\n",
       "      <td>0.1</td>\n",
       "      <td>setosa</td>\n",
       "    </tr>\n",
       "    <tr>\n",
       "      <th>4</th>\n",
       "      <td>15</td>\n",
       "      <td>5.8</td>\n",
       "      <td>4.0</td>\n",
       "      <td>1.2</td>\n",
       "      <td>0.2</td>\n",
       "      <td>setosa</td>\n",
       "    </tr>\n",
       "  </tbody>\n",
       "</table>\n",
       "</div>"
      ],
      "text/plain": [
       "   Unnamed: 0  Sepal.Length  Sepal.Width  Petal.Length  Petal.Width Species\n",
       "0           4           4.6          3.1           1.5          0.2  setosa\n",
       "1           7           4.6          3.4           1.4          0.3  setosa\n",
       "2          12           4.8          3.4           1.6          0.2  setosa\n",
       "3          13           4.8          3.0           1.4          0.1  setosa\n",
       "4          15           5.8          4.0           1.2          0.2  setosa"
      ]
     },
     "execution_count": 24,
     "metadata": {},
     "output_type": "execute_result"
    }
   ],
   "source": [
    "iris_train.head()"
   ]
  },
  {
   "cell_type": "code",
   "execution_count": 25,
   "metadata": {},
   "outputs": [
    {
     "data": {
      "image/png": "[encoded data removed]",
      "text/plain": [
       "<matplotlib.figure.Figure at 0x2ad3899ef98>"
      ]
     },
     "metadata": {
      "needs_background": "light"
     },
     "output_type": "display_data"
    }
   ],
   "source": [
    "iris_train[\"ID\"] = iris_train.index\n",
    "iris_train[\"ratio\"] = iris_train[\"Sepal.Length\"]/iris_train[\"Sepal.Width\"]\n",
    "\n",
    "sns.lmplot(x=\"ID\", y=\"ratio\", data=iris_train, hue=\"Species\", fit_reg=False, legend=False)\n",
    "\n",
    "plt.legend()\n",
    "plt.show()"
   ]
  },
  {
   "cell_type": "code",
   "execution_count": 26,
   "metadata": {},
   "outputs": [
    {
     "data": {
      "image/png": "[encoded data removed]",
      "text/plain": [
       "<matplotlib.figure.Figure at 0x2ad3882a1d0>"
      ]
     },
     "metadata": {
      "needs_background": "light"
     },
     "output_type": "display_data"
    }
   ],
   "source": [
    "iris_train[\"ID\"] = iris_train.index\n",
    "iris_train[\"ratio\"] = iris_train[\"Petal.Length\"]*iris_train[\"Petal.Width\"]\n",
    "\n",
    "sns.lmplot(x=\"ID\", y=\"ratio\", data=iris_train, hue=\"Species\", fit_reg=False, legend=False)\n",
    "\n",
    "plt.legend()\n",
    "plt.show()"
   ]
  },
  {
   "cell_type": "markdown",
   "metadata": {},
   "source": [
    "#### Versicolor & Virginica are close "
   ]
  },
  {
   "cell_type": "code",
   "execution_count": 110,
   "metadata": {},
   "outputs": [],
   "source": [
    "iris_train = pd.read_csv(\"train.csv\")"
   ]
  },
  {
   "cell_type": "code",
   "execution_count": 111,
   "metadata": {},
   "outputs": [
    {
     "data": {
      "text/plain": [
       "3    64\n",
       "4    26\n",
       "Name: Species, dtype: int64"
      ]
     },
     "execution_count": 111,
     "metadata": {},
     "output_type": "execute_result"
    }
   ],
   "source": [
    "iris_train.loc[iris_train.Species ==\"versicolor\", 'Species'] = 3\n",
    "iris_train.loc[iris_train.Species ==\"virginica\", 'Species'] = 3\n",
    "iris_train.loc[iris_train.Species ==\"setosa\", 'Species'] = 4\n",
    "iris_train.Species.value_counts()"
   ]
  },
  {
   "cell_type": "code",
   "execution_count": 112,
   "metadata": {},
   "outputs": [
    {
     "data": {
      "text/plain": [
       "(90, 5)"
      ]
     },
     "execution_count": 112,
     "metadata": {},
     "output_type": "execute_result"
    }
   ],
   "source": [
    "X_iris = iris_train.drop(columns=\"Species\",axis=1)\n",
    "X_iris.shape"
   ]
  },
  {
   "cell_type": "code",
   "execution_count": 113,
   "metadata": {},
   "outputs": [],
   "source": [
    "y_iris = iris_train[\"Species\"]"
   ]
  },
  {
   "cell_type": "code",
   "execution_count": 153,
   "metadata": {},
   "outputs": [],
   "source": [
    "from scipy import linalg\n",
    "import numpy as np\n",
    "import matplotlib.pyplot as plt\n",
    "import matplotlib as mpl\n",
    "from matplotlib import colors\n",
    "\n",
    "from sklearn.discriminant_analysis import LinearDiscriminantAnalysis\n",
    "\n",
    "# Colormap\n",
    "cmap = colors.LinearSegmentedColormap(\n",
    "    'red_blue_classes',\n",
    "    {'red': [(0, 1, 1), (1, 0.7, 0.7)],\n",
    "     'green': [(0, 0.7, 0.7), (1, 0.7, 0.7)],\n",
    "     'blue': [(0, 0.7, 0.7), (1, 1, 1)]})\n",
    "plt.cm.register_cmap(cmap=cmap)\n",
    "\n",
    "\n",
    "# Plot functions\n",
    "def plot_data(lda, X, y, y_pred, fig_index,a,b):\n",
    "    splot = plt.subplot(2, 2, fig_index)\n",
    "    plt.title('Linear Discriminant Analysis')\n",
    "  \n",
    "\n",
    "    tp = (y == y_pred)  # True Positive\n",
    "    tp0, tp1 = tp[y == 3], tp[y == 4]\n",
    "    X0, X1 = X[y == 3], X[y == 4]\n",
    "    X0_tp, X0_fp = X0[tp0], X0[~tp0]\n",
    "    X1_tp, X1_fp = X1[tp1], X1[~tp1]\n",
    "\n",
    "    alpha = 0.5\n",
    "\n",
    "    # class 0: dots\n",
    "    plt.plot(X0_tp[:, 0], X0_tp[:, 1], 'o', alpha=alpha,\n",
    "             color='red', markeredgecolor='k')\n",
    "    plt.plot(X0_fp[:, 0], X0_fp[:, 1], '*', alpha=alpha,\n",
    "             color='#990000', markeredgecolor='k')  # dark red\n",
    "\n",
    "    # class 1: dots\n",
    "    plt.plot(X1_tp[:, 0], X1_tp[:, 1], 'o', alpha=alpha,\n",
    "             color='blue', markeredgecolor='k')\n",
    "    plt.plot(X1_fp[:, 0], X1_fp[:, 1], '*', alpha=alpha,\n",
    "             color='#000099', markeredgecolor='k')  # dark blue\n",
    "\n",
    "    # class 0 and 1 : areas\n",
    "    nx, ny = 200, 100\n",
    "    x_min, x_max = plt.xlim()\n",
    "    y_min, y_max = plt.ylim()\n",
    "    xx, yy = np.meshgrid(np.linspace(x_min, x_max, nx),\n",
    "                         np.linspace(y_min, y_max, ny))\n",
    "    Z = lda.predict_proba(np.c_[xx.ravel(), yy.ravel()])\n",
    "    Z = Z[:, 1].reshape(xx.shape)\n",
    "    plt.pcolormesh(xx, yy, Z, cmap='red_blue_classes',\n",
    "                   norm=colors.Normalize(0., 1.))\n",
    "    plt.contour(xx, yy, Z, [0.5], linewidths=2., colors='k')\n",
    "\n",
    "    # means\n",
    "    plt.plot(lda.means_[0][0], lda.means_[0][1],\n",
    "             'o', color='black', markersize=10, markeredgecolor='k')\n",
    "    plt.plot(lda.means_[1][0], lda.means_[1][1],\n",
    "             'o', color='black', markersize=10, markeredgecolor='k')\n",
    "\n",
    "    return splot\n",
    "\n",
    "\n",
    "def plot_ellipse(splot, mean, cov, color):\n",
    "    v, w = linalg.eigh(cov)\n",
    "    u = w[0] / linalg.norm(w[0])\n",
    "    angle = np.arctan(u[1] / u[0])\n",
    "    angle = 180 * angle / np.pi  # convert to degrees\n",
    "    # filled Gaussian at 2 standard deviation\n",
    "    ell = mpl.patches.Ellipse(mean, 2 * v[0] ** 0.5, 2 * v[1] ** 0.5,\n",
    "                              180 + angle, facecolor=color,\n",
    "                              edgecolor='yellow',\n",
    "                              linewidth=2, zorder=2)\n",
    "    ell.set_clip_box(splot.bbox)\n",
    "    ell.set_alpha(0.5)\n",
    "    splot.add_artist(ell)\n",
    "    splot.set_xticks(())\n",
    "    splot.set_yticks(())\n",
    "\n",
    "\n",
    "def plot_lda_cov(lda, splot):\n",
    "    plot_ellipse(splot, lda.means_[0], lda.covariance_, 'red')\n",
    "    plot_ellipse(splot, lda.means_[1], lda.covariance_, 'blue')\n"
   ]
  },
  {
   "cell_type": "code",
   "execution_count": 137,
   "metadata": {},
   "outputs": [
    {
     "data": {
      "text/plain": [
       "3    36\n",
       "4    24\n",
       "Name: Species, dtype: int64"
      ]
     },
     "execution_count": 137,
     "metadata": {},
     "output_type": "execute_result"
    }
   ],
   "source": [
    "iris_test = pd.read_csv(\"test.csv\")\n",
    "iris_test.loc[iris_test.Species ==\"versicolor\", 'Species'] = 3\n",
    "iris_test.loc[iris_test.Species ==\"virginica\", 'Species'] = 3\n",
    "iris_test.loc[iris_test.Species ==\"setosa\", 'Species'] = 4\n",
    "iris_test.Species.value_counts()"
   ]
  },
  {
   "cell_type": "code",
   "execution_count": 146,
   "metadata": {},
   "outputs": [
    {
     "name": "stdout",
     "output_type": "stream",
     "text": [
      "[4 4 4 4 4 4 4 4 4 4 4 4 4 4 4 4 4 4 4 4 4 4 4 4 3 3 3 3 3 3 3 3 3 3 3 3 3\n",
      " 3 3 3 3 3 3 3 3 3 3 3 3 3 3 3 3 3 3 3 3 3 3 3]\n"
     ]
    },
    {
     "data": {
      "image/png": "[encoded data removed]",
      "text/plain": [
       "<matplotlib.figure.Figure at 0x2ad3b6adf28>"
      ]
     },
     "metadata": {},
     "output_type": "display_data"
    }
   ],
   "source": [
    "def dataset_petal():\n",
    "    '''Generate 2 Gaussians samples with different covariance matrices'''\n",
    "    X = np.r_[X_iris[[\"Petal.Width\",\"Petal.Length\"]]]\n",
    "    y = np.r_[y_iris]\n",
    "    \n",
    "    return X, y\n",
    "\n",
    "for i, (X, y) in enumerate([ dataset_petal()]):\n",
    "    x_test = np.r_[iris_test[[\"Petal.Width\",\"Petal.Length\"]]]\n",
    "    y_test =np.r_[iris_test[\"Species\"]]\n",
    "    lda = LinearDiscriminantAnalysis(solver=\"svd\", store_covariance=True)\n",
    "    y_pred = lda.fit(X, y).predict(x_test)               \n",
    "    splot = plot_data(lda, x_test, y_test, y_pred, fig_index=2 * i + 1)\n",
    "    plot_lda_cov(lda, splot)\n",
    "    plt.axis('tight')"
   ]
  },
  {
   "cell_type": "code",
   "execution_count": 142,
   "metadata": {},
   "outputs": [
    {
     "data": {
      "text/plain": [
       "array([4, 4, 4, 4, 4, 4, 4, 4, 4, 4, 4, 4, 4, 4, 4, 4, 4, 4, 4, 4, 4, 4,\n",
       "       4, 4, 3, 3, 3, 3, 3, 3, 3, 3, 3, 3, 3, 3, 3, 3, 3, 3, 3, 3, 3, 3,\n",
       "       3, 3, 3, 3, 3, 3, 3, 3, 3, 3, 3, 3, 3, 3, 3, 3], dtype=int64)"
      ]
     },
     "execution_count": 142,
     "metadata": {},
     "output_type": "execute_result"
    }
   ],
   "source": [
    "np.r_[iris_test[\"Species\"]]"
   ]
  },
  {
   "cell_type": "code",
   "execution_count": 148,
   "metadata": {},
   "outputs": [
    {
     "data": {
      "image/png": "[encoded data removed]",
      "text/plain": [
       "<matplotlib.figure.Figure at 0x2ad3b701e48>"
      ]
     },
     "metadata": {},
     "output_type": "display_data"
    }
   ],
   "source": [
    "def dataset_sepal():\n",
    "    '''Generate 2 Gaussians samples with different covariance matrices'''\n",
    "    X = np.r_[X_iris[[\"Sepal.Width\",\"Sepal.Length\"]]]\n",
    "    y = np.r_[y_iris]\n",
    "    return X, y\n",
    "\n",
    "for i, (X, y) in enumerate([ dataset_sepal()]):\n",
    "    x_test = np.r_[iris_test[[\"Sepal.Width\",\"Sepal.Length\"]]]\n",
    "    y_test =np.r_[iris_test[\"Species\"]]\n",
    "    # Linear Discriminant Analysis\n",
    "    lda = LinearDiscriminantAnalysis(solver=\"svd\", store_covariance=True)\n",
    "    y_pred = lda.fit(X, y).predict(X)\n",
    "    splot = plot_data(lda, X, y, y_pred, fig_index=2 * i + 1)\n",
    "    plot_lda_cov(lda, splot)\n",
    "    plt.axis('tight')"
   ]
  },
  {
   "cell_type": "code",
   "execution_count": 150,
   "metadata": {},
   "outputs": [
    {
     "data": {
      "text/plain": [
       "versicolor    34\n",
       "virginica     30\n",
       "Name: Species, dtype: int64"
      ]
     },
     "execution_count": 150,
     "metadata": {},
     "output_type": "execute_result"
    }
   ],
   "source": [
    "iris_train = pd.read_csv(\"train.csv\")\n",
    "iris_train = iris_train[iris_train.Species != \"setosa\"]\n",
    "iris_train.Species.value_counts()\n"
   ]
  },
  {
   "cell_type": "code",
   "execution_count": 151,
   "metadata": {},
   "outputs": [],
   "source": [
    "iris_train.loc[iris_train.Species ==\"versicolor\", 'Species'] = 0\n",
    "iris_train.loc[iris_train.Species ==\"virginica\", 'Species'] = 1"
   ]
  },
  {
   "cell_type": "code",
   "execution_count": 159,
   "metadata": {},
   "outputs": [],
   "source": [
    "from scipy import linalg\n",
    "import numpy as np\n",
    "import matplotlib.pyplot as plt\n",
    "import matplotlib as mpl\n",
    "from matplotlib import colors\n",
    "\n",
    "from sklearn.discriminant_analysis import LinearDiscriminantAnalysis\n",
    "from sklearn.discriminant_analysis import QuadraticDiscriminantAnalysis\n",
    "\n",
    "# Colormap\n",
    "cmap = colors.LinearSegmentedColormap(\n",
    "    'red_blue_classes',\n",
    "    {'red': [(0, 1, 1), (1, 0.7, 0.7)],\n",
    "     'green': [(0, 0.7, 0.7), (1, 0.7, 0.7)],\n",
    "     'blue': [(0, 0.7, 0.7), (1, 1, 1)]})\n",
    "plt.cm.register_cmap(cmap=cmap)\n",
    "\n",
    "\n",
    "# Plot functions\n",
    "def plot_data(lda, X, y, y_pred, fig_index):\n",
    "    splot = plt.subplot(2, 2, fig_index)\n",
    "    plt.title('Linear Discriminant Analysis')\n",
    "  \n",
    "\n",
    "    tp = (y == y_pred)  # True Positive\n",
    "    tp0, tp1 = tp[y == 0], tp[y == 1]\n",
    "    X0, X1 = X[y == 0], X[y == 1]\n",
    "    X0_tp, X0_fp = X0[tp0], X0[~tp0]\n",
    "    X1_tp, X1_fp = X1[tp1], X1[~tp1]\n",
    "\n",
    "    alpha = 0.5\n",
    "\n",
    "    # class 0: dots\n",
    "    plt.plot(X0_tp[:, 0], X0_tp[:, 1], 'o', alpha=alpha,\n",
    "             color='red', markeredgecolor='k')\n",
    "    plt.plot(X0_fp[:, 0], X0_fp[:, 1], '*', alpha=alpha,\n",
    "             color='#990000', markeredgecolor='k')  # dark red\n",
    "\n",
    "    # class 1: dots\n",
    "    plt.plot(X1_tp[:, 0], X1_tp[:, 1], 'o', alpha=alpha,\n",
    "             color='blue', markeredgecolor='k')\n",
    "    plt.plot(X1_fp[:, 0], X1_fp[:, 1], '*', alpha=alpha,\n",
    "             color='#000099', markeredgecolor='k')  # dark blue\n",
    "\n",
    "    # class 0 and 1 : areas\n",
    "    nx, ny = 200, 100\n",
    "    x_min, x_max = plt.xlim()\n",
    "    y_min, y_max = plt.ylim()\n",
    "    xx, yy = np.meshgrid(np.linspace(x_min, x_max, nx),\n",
    "                         np.linspace(y_min, y_max, ny))\n",
    "    Z = lda.predict_proba(np.c_[xx.ravel(), yy.ravel()])\n",
    "    Z = Z[:, 1].reshape(xx.shape)\n",
    "    plt.pcolormesh(xx, yy, Z, cmap='red_blue_classes',\n",
    "                   norm=colors.Normalize(0., 1.))\n",
    "    plt.contour(xx, yy, Z, [0.5], linewidths=2., colors='k')\n",
    "\n",
    "    # means\n",
    "    plt.plot(lda.means_[0][0], lda.means_[0][1],\n",
    "             'o', color='black', markersize=10, markeredgecolor='k')\n",
    "    plt.plot(lda.means_[1][0], lda.means_[1][1],\n",
    "             'o', color='black', markersize=10, markeredgecolor='k')\n",
    "\n",
    "    return splot\n",
    "\n",
    "\n",
    "def plot_ellipse(splot, mean, cov, color):\n",
    "    v, w = linalg.eigh(cov)\n",
    "    u = w[0] / linalg.norm(w[0])\n",
    "    angle = np.arctan(u[1] / u[0])\n",
    "    angle = 180 * angle / np.pi  # convert to degrees\n",
    "    # filled Gaussian at 2 standard deviation\n",
    "    ell = mpl.patches.Ellipse(mean, 2 * v[0] ** 0.5, 2 * v[1] ** 0.5,\n",
    "                              180 + angle, facecolor=color,\n",
    "                              edgecolor='yellow',\n",
    "                              linewidth=2, zorder=2)\n",
    "    ell.set_clip_box(splot.bbox)\n",
    "    ell.set_alpha(0.5)\n",
    "    splot.add_artist(ell)\n",
    "    splot.set_xticks(())\n",
    "    splot.set_yticks(())\n",
    "\n",
    "\n",
    "def plot_lda_cov(lda, splot):\n",
    "    plot_ellipse(splot, lda.means_[0], lda.covariance_, 'red')\n",
    "    plot_ellipse(splot, lda.means_[1], lda.covariance_, 'blue')\n"
   ]
  },
  {
   "cell_type": "code",
   "execution_count": 155,
   "metadata": {},
   "outputs": [
    {
     "data": {
      "text/plain": [
       "1    20\n",
       "0    16\n",
       "Name: Species, dtype: int64"
      ]
     },
     "execution_count": 155,
     "metadata": {},
     "output_type": "execute_result"
    }
   ],
   "source": [
    "iris_test = pd.read_csv(\"test.csv\")\n",
    "iris_test = iris_test[iris_test.Species != \"setosa\"]\n",
    "\n",
    "iris_test.loc[iris_test.Species ==\"versicolor\", 'Species'] = 0\n",
    "iris_test.loc[iris_test.Species ==\"virginica\", 'Species'] = 1\n",
    "iris_test.Species.value_counts()"
   ]
  },
  {
   "cell_type": "code",
   "execution_count": 160,
   "metadata": {},
   "outputs": [
    {
     "name": "stderr",
     "output_type": "stream",
     "text": [
      "G:\\ProgramData\\Anaconda3\\lib\\site-packages\\matplotlib\\contour.py:1180: UserWarning: No contour levels were found within the data range.\n",
      "  warnings.warn(\"No contour levels were found\"\n"
     ]
    },
    {
     "data": {
      "image/png": "[encoded data removed]",
      "text/plain": [
       "<matplotlib.figure.Figure at 0x2ad3b65f0f0>"
      ]
     },
     "metadata": {},
     "output_type": "display_data"
    }
   ],
   "source": [
    "def dataset_petal():\n",
    "    '''Generate 2 Gaussians samples with different covariance matrices'''\n",
    "    X = np.r_[X_iris[[\"Petal.Width\",\"Petal.Length\"]]]\n",
    "    y = np.r_[y_iris]\n",
    "    \n",
    "    return X, y\n",
    "\n",
    "for i, (X, y) in enumerate([ dataset_petal()]):\n",
    "    x_test = np.r_[iris_test[[\"Petal.Width\",\"Petal.Length\"]]]\n",
    "    y_test =np.r_[iris_test[\"Species\"]]\n",
    "    lda = LinearDiscriminantAnalysis(solver=\"svd\", store_covariance=True)\n",
    "    y_pred = lda.fit(X, y).predict(x_test)               \n",
    "    splot = plot_data(lda, x_test, y_test, y_pred, fig_index=2 * i + 1)\n",
    "    plot_lda_cov(lda, splot)\n",
    "    plt.axis('tight')"
   ]
  },
  {
   "cell_type": "code",
   "execution_count": 183,
   "metadata": {},
   "outputs": [
    {
     "name": "stderr",
     "output_type": "stream",
     "text": [
      "G:\\ProgramData\\Anaconda3\\lib\\site-packages\\matplotlib\\contour.py:1180: UserWarning: No contour levels were found within the data range.\n",
      "  warnings.warn(\"No contour levels were found\"\n"
     ]
    },
    {
     "data": {
      "image/png": "[encoded data removed]",
      "text/plain": [
       "<matplotlib.figure.Figure at 0x2ad3a410a90>"
      ]
     },
     "metadata": {},
     "output_type": "display_data"
    }
   ],
   "source": [
    "def dataset_sepal():\n",
    "    '''Generate 2 Gaussians samples with different covariance matrices'''\n",
    "    X = np.r_[X_iris[[\"Sepal.Width\",\"Sepal.Length\"]]]\n",
    "    y = np.r_[y_iris]\n",
    "    return X, y\n",
    "\n",
    "for i, (X, y) in enumerate([ dataset_sepal()]):\n",
    "    x_test = np.r_[iris_test[[\"Sepal.Width\",\"Sepal.Length\"]]]\n",
    "    y_test =np.r_[iris_test[\"Species\"]]\n",
    "    # Linear Discriminant Analysis\n",
    "    lda = LinearDiscriminantAnalysis(solver=\"svd\", store_covariance=True)\n",
    "    y_pred = lda.fit(X, y).predict(X)\n",
    "    splot = plot_data(lda, X, y, y_pred, fig_index=2 * i + 1)\n",
    "    plot_lda_cov(lda, splot)\n",
    "    plt.axis('tight')"
   ]
  },
  {
   "cell_type": "markdown",
   "metadata": {},
   "source": [
    "### PART 2\n"
   ]
  },
  {
   "cell_type": "code",
   "execution_count": 184,
   "metadata": {},
   "outputs": [],
   "source": [
    "import os\n",
    "os.chdir(\"G:\\\\ISBHyderabad\\\\Campus6\\\\DMG2\\\\Mushroom\")"
   ]
  },
  {
   "cell_type": "code",
   "execution_count": 250,
   "metadata": {},
   "outputs": [],
   "source": [
    "mushroom_train = pd.read_csv(\"train.csv\")"
   ]
  },
  {
   "cell_type": "code",
   "execution_count": 186,
   "metadata": {},
   "outputs": [
    {
     "data": {
      "text/html": [
       "<div>\n",
       "<style scoped>\n",
       "    .dataframe tbody tr th:only-of-type {\n",
       "        vertical-align: middle;\n",
       "    }\n",
       "\n",
       "    .dataframe tbody tr th {\n",
       "        vertical-align: top;\n",
       "    }\n",
       "\n",
       "    .dataframe thead th {\n",
       "        text-align: right;\n",
       "    }\n",
       "</style>\n",
       "<table border=\"1\" class=\"dataframe\">\n",
       "  <thead>\n",
       "    <tr style=\"text-align: right;\">\n",
       "      <th></th>\n",
       "      <th>Unnamed: 0</th>\n",
       "      <th>V1</th>\n",
       "      <th>V2</th>\n",
       "      <th>V3</th>\n",
       "      <th>V4</th>\n",
       "      <th>V5</th>\n",
       "      <th>V6</th>\n",
       "      <th>V7</th>\n",
       "      <th>V8</th>\n",
       "      <th>V9</th>\n",
       "      <th>...</th>\n",
       "      <th>V14</th>\n",
       "      <th>V15</th>\n",
       "      <th>V16</th>\n",
       "      <th>V17</th>\n",
       "      <th>V18</th>\n",
       "      <th>V19</th>\n",
       "      <th>V20</th>\n",
       "      <th>V21</th>\n",
       "      <th>V22</th>\n",
       "      <th>V23</th>\n",
       "    </tr>\n",
       "  </thead>\n",
       "  <tbody>\n",
       "    <tr>\n",
       "      <th>0</th>\n",
       "      <td>4</td>\n",
       "      <td>p</td>\n",
       "      <td>x</td>\n",
       "      <td>y</td>\n",
       "      <td>w</td>\n",
       "      <td>t</td>\n",
       "      <td>p</td>\n",
       "      <td>f</td>\n",
       "      <td>c</td>\n",
       "      <td>n</td>\n",
       "      <td>...</td>\n",
       "      <td>s</td>\n",
       "      <td>w</td>\n",
       "      <td>w</td>\n",
       "      <td>p</td>\n",
       "      <td>w</td>\n",
       "      <td>o</td>\n",
       "      <td>p</td>\n",
       "      <td>k</td>\n",
       "      <td>s</td>\n",
       "      <td>u</td>\n",
       "    </tr>\n",
       "    <tr>\n",
       "      <th>1</th>\n",
       "      <td>7</td>\n",
       "      <td>e</td>\n",
       "      <td>b</td>\n",
       "      <td>s</td>\n",
       "      <td>w</td>\n",
       "      <td>t</td>\n",
       "      <td>a</td>\n",
       "      <td>f</td>\n",
       "      <td>c</td>\n",
       "      <td>b</td>\n",
       "      <td>...</td>\n",
       "      <td>s</td>\n",
       "      <td>w</td>\n",
       "      <td>w</td>\n",
       "      <td>p</td>\n",
       "      <td>w</td>\n",
       "      <td>o</td>\n",
       "      <td>p</td>\n",
       "      <td>k</td>\n",
       "      <td>n</td>\n",
       "      <td>m</td>\n",
       "    </tr>\n",
       "    <tr>\n",
       "      <th>2</th>\n",
       "      <td>12</td>\n",
       "      <td>e</td>\n",
       "      <td>x</td>\n",
       "      <td>y</td>\n",
       "      <td>y</td>\n",
       "      <td>t</td>\n",
       "      <td>a</td>\n",
       "      <td>f</td>\n",
       "      <td>c</td>\n",
       "      <td>b</td>\n",
       "      <td>...</td>\n",
       "      <td>s</td>\n",
       "      <td>w</td>\n",
       "      <td>w</td>\n",
       "      <td>p</td>\n",
       "      <td>w</td>\n",
       "      <td>o</td>\n",
       "      <td>p</td>\n",
       "      <td>k</td>\n",
       "      <td>s</td>\n",
       "      <td>m</td>\n",
       "    </tr>\n",
       "    <tr>\n",
       "      <th>3</th>\n",
       "      <td>13</td>\n",
       "      <td>e</td>\n",
       "      <td>b</td>\n",
       "      <td>s</td>\n",
       "      <td>y</td>\n",
       "      <td>t</td>\n",
       "      <td>a</td>\n",
       "      <td>f</td>\n",
       "      <td>c</td>\n",
       "      <td>b</td>\n",
       "      <td>...</td>\n",
       "      <td>s</td>\n",
       "      <td>w</td>\n",
       "      <td>w</td>\n",
       "      <td>p</td>\n",
       "      <td>w</td>\n",
       "      <td>o</td>\n",
       "      <td>p</td>\n",
       "      <td>n</td>\n",
       "      <td>s</td>\n",
       "      <td>g</td>\n",
       "    </tr>\n",
       "    <tr>\n",
       "      <th>4</th>\n",
       "      <td>15</td>\n",
       "      <td>e</td>\n",
       "      <td>x</td>\n",
       "      <td>f</td>\n",
       "      <td>n</td>\n",
       "      <td>f</td>\n",
       "      <td>n</td>\n",
       "      <td>f</td>\n",
       "      <td>w</td>\n",
       "      <td>b</td>\n",
       "      <td>...</td>\n",
       "      <td>f</td>\n",
       "      <td>w</td>\n",
       "      <td>w</td>\n",
       "      <td>p</td>\n",
       "      <td>w</td>\n",
       "      <td>o</td>\n",
       "      <td>e</td>\n",
       "      <td>k</td>\n",
       "      <td>a</td>\n",
       "      <td>g</td>\n",
       "    </tr>\n",
       "  </tbody>\n",
       "</table>\n",
       "<p>5 rows × 24 columns</p>\n",
       "</div>"
      ],
      "text/plain": [
       "   Unnamed: 0 V1 V2 V3 V4 V5 V6 V7 V8 V9 ... V14 V15 V16 V17 V18 V19 V20 V21  \\\n",
       "0           4  p  x  y  w  t  p  f  c  n ...   s   w   w   p   w   o   p   k   \n",
       "1           7  e  b  s  w  t  a  f  c  b ...   s   w   w   p   w   o   p   k   \n",
       "2          12  e  x  y  y  t  a  f  c  b ...   s   w   w   p   w   o   p   k   \n",
       "3          13  e  b  s  y  t  a  f  c  b ...   s   w   w   p   w   o   p   n   \n",
       "4          15  e  x  f  n  f  n  f  w  b ...   f   w   w   p   w   o   e   k   \n",
       "\n",
       "  V22 V23  \n",
       "0   s   u  \n",
       "1   n   m  \n",
       "2   s   m  \n",
       "3   s   g  \n",
       "4   a   g  \n",
       "\n",
       "[5 rows x 24 columns]"
      ]
     },
     "execution_count": 186,
     "metadata": {},
     "output_type": "execute_result"
    }
   ],
   "source": [
    "mushroom_train.head()"
   ]
  },
  {
   "cell_type": "code",
   "execution_count": 204,
   "metadata": {},
   "outputs": [
    {
     "data": {
      "text/plain": [
       "Index(['Unnamed: 0', 'V1', 'V2', 'V3', 'V4', 'V5', 'V6', 'V7', 'V8', 'V9',\n",
       "       'V10', 'V11', 'V12', 'V13', 'V14', 'V15', 'V16', 'V17', 'V18', 'V19',\n",
       "       'V20', 'V21', 'V22', 'V23'],\n",
       "      dtype='object')"
      ]
     },
     "execution_count": 204,
     "metadata": {},
     "output_type": "execute_result"
    }
   ],
   "source": [
    "mushroom_train.V1.value_counts()\n",
    "mushroom_train.columns"
   ]
  },
  {
   "cell_type": "code",
   "execution_count": 251,
   "metadata": {},
   "outputs": [],
   "source": [
    "from sklearn.preprocessing import LabelEncoder\n",
    "\n",
    "labelencoder=LabelEncoder()\n",
    "for column in mushroom_train.columns:\n",
    "    mushroom_train[column] = labelencoder.fit_transform(mushroom_train[column])"
   ]
  },
  {
   "cell_type": "code",
   "execution_count": 252,
   "metadata": {},
   "outputs": [],
   "source": [
    "X_train = mushroom_train.drop(columns=[\"V1\",'Unnamed: 0'],axis=1)\n",
    "y_train = mushroom_train[\"V1\"]"
   ]
  },
  {
   "cell_type": "code",
   "execution_count": 219,
   "metadata": {},
   "outputs": [],
   "source": [
    "from sklearn.tree import DecisionTreeClassifier \n",
    "\n",
    "clf_gini = DecisionTreeClassifier(criterion = \"gini\", \n",
    "            random_state = 100,max_depth=3,)\n",
    "clf_entropy = DecisionTreeClassifier(criterion = \"entropy\", \n",
    "            random_state = 100,max_depth=3,)\n",
    "clf_acc = DecisionTreeClassifier(criterion = \"accuracy\", \n",
    "            random_state = 100,max_depth=3, min_samples_leaf=5)\n"
   ]
  },
  {
   "cell_type": "code",
   "execution_count": 232,
   "metadata": {},
   "outputs": [],
   "source": [
    "clf_gini.fit(X_train,y_train)\n",
    "m = dict(zip(X_train.columns, clf_gini.feature_importances_))\n"
   ]
  },
  {
   "cell_type": "code",
   "execution_count": 244,
   "metadata": {},
   "outputs": [],
   "source": [
    "clf_entropy.fit(X_train,y_train)\n",
    "k = dict(zip(X_train.columns, 1-clf_entropy.feature_importances_))\n"
   ]
  },
  {
   "cell_type": "code",
   "execution_count": 245,
   "metadata": {},
   "outputs": [
    {
     "data": {
      "text/html": [
       "<div>\n",
       "<style scoped>\n",
       "    .dataframe tbody tr th:only-of-type {\n",
       "        vertical-align: middle;\n",
       "    }\n",
       "\n",
       "    .dataframe tbody tr th {\n",
       "        vertical-align: top;\n",
       "    }\n",
       "\n",
       "    .dataframe thead th {\n",
       "        text-align: right;\n",
       "    }\n",
       "</style>\n",
       "<table border=\"1\" class=\"dataframe\">\n",
       "  <thead>\n",
       "    <tr style=\"text-align: right;\">\n",
       "      <th></th>\n",
       "      <th>Featur_Name</th>\n",
       "      <th>Gini_Index</th>\n",
       "      <th>Entropy</th>\n",
       "    </tr>\n",
       "  </thead>\n",
       "  <tbody>\n",
       "    <tr>\n",
       "      <th>0</th>\n",
       "      <td>V2</td>\n",
       "      <td>0.000000</td>\n",
       "      <td>1.000000</td>\n",
       "    </tr>\n",
       "    <tr>\n",
       "      <th>1</th>\n",
       "      <td>V3</td>\n",
       "      <td>0.000000</td>\n",
       "      <td>1.000000</td>\n",
       "    </tr>\n",
       "    <tr>\n",
       "      <th>2</th>\n",
       "      <td>V4</td>\n",
       "      <td>0.000000</td>\n",
       "      <td>1.000000</td>\n",
       "    </tr>\n",
       "    <tr>\n",
       "      <th>3</th>\n",
       "      <td>V5</td>\n",
       "      <td>0.000000</td>\n",
       "      <td>1.000000</td>\n",
       "    </tr>\n",
       "    <tr>\n",
       "      <th>4</th>\n",
       "      <td>V6</td>\n",
       "      <td>0.047879</td>\n",
       "      <td>0.908066</td>\n",
       "    </tr>\n",
       "    <tr>\n",
       "      <th>5</th>\n",
       "      <td>V7</td>\n",
       "      <td>0.000000</td>\n",
       "      <td>1.000000</td>\n",
       "    </tr>\n",
       "    <tr>\n",
       "      <th>6</th>\n",
       "      <td>V8</td>\n",
       "      <td>0.000000</td>\n",
       "      <td>1.000000</td>\n",
       "    </tr>\n",
       "    <tr>\n",
       "      <th>7</th>\n",
       "      <td>V9</td>\n",
       "      <td>0.123758</td>\n",
       "      <td>0.834843</td>\n",
       "    </tr>\n",
       "    <tr>\n",
       "      <th>8</th>\n",
       "      <td>V10</td>\n",
       "      <td>0.390310</td>\n",
       "      <td>0.681580</td>\n",
       "    </tr>\n",
       "    <tr>\n",
       "      <th>9</th>\n",
       "      <td>V11</td>\n",
       "      <td>0.000000</td>\n",
       "      <td>1.000000</td>\n",
       "    </tr>\n",
       "    <tr>\n",
       "      <th>10</th>\n",
       "      <td>V12</td>\n",
       "      <td>0.015761</td>\n",
       "      <td>1.000000</td>\n",
       "    </tr>\n",
       "    <tr>\n",
       "      <th>11</th>\n",
       "      <td>V13</td>\n",
       "      <td>0.000000</td>\n",
       "      <td>1.000000</td>\n",
       "    </tr>\n",
       "    <tr>\n",
       "      <th>12</th>\n",
       "      <td>V14</td>\n",
       "      <td>0.000000</td>\n",
       "      <td>1.000000</td>\n",
       "    </tr>\n",
       "    <tr>\n",
       "      <th>13</th>\n",
       "      <td>V15</td>\n",
       "      <td>0.000000</td>\n",
       "      <td>1.000000</td>\n",
       "    </tr>\n",
       "    <tr>\n",
       "      <th>14</th>\n",
       "      <td>V16</td>\n",
       "      <td>0.000000</td>\n",
       "      <td>1.000000</td>\n",
       "    </tr>\n",
       "    <tr>\n",
       "      <th>15</th>\n",
       "      <td>V17</td>\n",
       "      <td>0.000000</td>\n",
       "      <td>1.000000</td>\n",
       "    </tr>\n",
       "    <tr>\n",
       "      <th>16</th>\n",
       "      <td>V18</td>\n",
       "      <td>0.000000</td>\n",
       "      <td>1.000000</td>\n",
       "    </tr>\n",
       "    <tr>\n",
       "      <th>17</th>\n",
       "      <td>V19</td>\n",
       "      <td>0.000000</td>\n",
       "      <td>1.000000</td>\n",
       "    </tr>\n",
       "    <tr>\n",
       "      <th>18</th>\n",
       "      <td>V20</td>\n",
       "      <td>0.000000</td>\n",
       "      <td>1.000000</td>\n",
       "    </tr>\n",
       "    <tr>\n",
       "      <th>19</th>\n",
       "      <td>V21</td>\n",
       "      <td>0.224296</td>\n",
       "      <td>0.575510</td>\n",
       "    </tr>\n",
       "    <tr>\n",
       "      <th>20</th>\n",
       "      <td>V22</td>\n",
       "      <td>0.197996</td>\n",
       "      <td>1.000000</td>\n",
       "    </tr>\n",
       "    <tr>\n",
       "      <th>21</th>\n",
       "      <td>V23</td>\n",
       "      <td>0.000000</td>\n",
       "      <td>1.000000</td>\n",
       "    </tr>\n",
       "  </tbody>\n",
       "</table>\n",
       "</div>"
      ],
      "text/plain": [
       "   Featur_Name  Gini_Index   Entropy\n",
       "0           V2    0.000000  1.000000\n",
       "1           V3    0.000000  1.000000\n",
       "2           V4    0.000000  1.000000\n",
       "3           V5    0.000000  1.000000\n",
       "4           V6    0.047879  0.908066\n",
       "5           V7    0.000000  1.000000\n",
       "6           V8    0.000000  1.000000\n",
       "7           V9    0.123758  0.834843\n",
       "8          V10    0.390310  0.681580\n",
       "9          V11    0.000000  1.000000\n",
       "10         V12    0.015761  1.000000\n",
       "11         V13    0.000000  1.000000\n",
       "12         V14    0.000000  1.000000\n",
       "13         V15    0.000000  1.000000\n",
       "14         V16    0.000000  1.000000\n",
       "15         V17    0.000000  1.000000\n",
       "16         V18    0.000000  1.000000\n",
       "17         V19    0.000000  1.000000\n",
       "18         V20    0.000000  1.000000\n",
       "19         V21    0.224296  0.575510\n",
       "20         V22    0.197996  1.000000\n",
       "21         V23    0.000000  1.000000"
      ]
     },
     "execution_count": 245,
     "metadata": {},
     "output_type": "execute_result"
    }
   ],
   "source": [
    "pd.DataFrame({\"Featur_Name\":list(k.keys()),\"Gini_Index\":list(m.values()),\"Entropy\":list(k.values())})"
   ]
  },
  {
   "cell_type": "markdown",
   "metadata": {},
   "source": [
    "### PART 3"
   ]
  },
  {
   "cell_type": "code",
   "execution_count": 258,
   "metadata": {},
   "outputs": [],
   "source": [
    "from sklearn.naive_bayes import MultinomialNB\n",
    "from sklearn.metrics import confusion_matrix"
   ]
  },
  {
   "cell_type": "code",
   "execution_count": 253,
   "metadata": {},
   "outputs": [],
   "source": [
    "mushroom_test = pd.read_csv(\"test.csv\")"
   ]
  },
  {
   "cell_type": "code",
   "execution_count": 254,
   "metadata": {},
   "outputs": [],
   "source": [
    "labelencoder=LabelEncoder()\n",
    "for column in mushroom_test.columns:\n",
    "    mushroom_test[column] = labelencoder.fit_transform(mushroom_test[column])"
   ]
  },
  {
   "cell_type": "code",
   "execution_count": 255,
   "metadata": {},
   "outputs": [],
   "source": [
    "X_test = mushroom_test.drop(columns=[\"V1\",'Unnamed: 0'],axis=1)\n",
    "y_test = mushroom_test[\"V1\"]"
   ]
  },
  {
   "cell_type": "code",
   "execution_count": 280,
   "metadata": {},
   "outputs": [
    {
     "name": "stdout",
     "output_type": "stream",
     "text": [
      "[[1610   80]\n",
      " [ 454 1091]]\n",
      "0.8349304482225657\n"
     ]
    }
   ],
   "source": [
    "gnb1 = MultinomialNB()\n",
    "gnb1.fit(X_train,y_train)\n",
    "y_pred = gnb1.predict(X_test)\n",
    "print(confusion_matrix(y_test, y_pred))\n",
    "print(gnb1.score(X_test,y_test))"
   ]
  },
  {
   "cell_type": "code",
   "execution_count": 283,
   "metadata": {},
   "outputs": [],
   "source": [
    "accuracy_score ={}\n",
    "for lapa in range(1,51):\n",
    "    gnb1 = MultinomialNB(alpha=lapa)\n",
    "    gnb1.fit(X_train,y_train)\n",
    "    y_pred = gnb1.predict(X_test)\n",
    "# print(confusion_matrix(y_test, y_pred))\n",
    "    accuracy_score[lapa] = (gnb1.score(X_test,y_test))\n",
    "    "
   ]
  },
  {
   "cell_type": "code",
   "execution_count": 281,
   "metadata": {},
   "outputs": [],
   "source": [
    "accuracy_dsc ={}\n",
    "for sample in [k for k in range(1,65) if k%4 ==0]:\n",
    "    Dsc = DecisionTreeClassifier(max_leaf_nodes=sample)\n",
    "    Dsc.fit(X_train,y_train)\n",
    "    y_pred = Dsc.predict(X_test)\n",
    "    accuracy_dsc[sample] = Dsc.score(X_test,y_test)\n",
    "\n",
    "# DecisionTreeClassifier()"
   ]
  },
  {
   "cell_type": "code",
   "execution_count": 282,
   "metadata": {},
   "outputs": [
    {
     "data": {
      "text/plain": [
       "{4: 0.915919629057187,\n",
       " 8: 0.9731066460587326,\n",
       " 12: 0.9901081916537867,\n",
       " 16: 0.9950540958268933,\n",
       " 20: 1.0,\n",
       " 24: 1.0,\n",
       " 28: 1.0,\n",
       " 32: 1.0,\n",
       " 36: 1.0,\n",
       " 40: 1.0,\n",
       " 44: 1.0,\n",
       " 48: 1.0,\n",
       " 52: 1.0,\n",
       " 56: 1.0,\n",
       " 60: 1.0,\n",
       " 64: 1.0}"
      ]
     },
     "execution_count": 282,
     "metadata": {},
     "output_type": "execute_result"
    }
   ],
   "source": [
    "accuracy_dsc"
   ]
  },
  {
   "cell_type": "markdown",
   "metadata": {},
   "source": [
    "### PART 4\n"
   ]
  },
  {
   "cell_type": "code",
   "execution_count": 284,
   "metadata": {},
   "outputs": [],
   "source": [
    "import os \n",
    "os.chdir(\"G:\\\\ISBHyderabad\\\\Campus6\\\\DMG2\\\\Mnist\")"
   ]
  },
  {
   "cell_type": "code",
   "execution_count": 289,
   "metadata": {},
   "outputs": [
    {
     "name": "stderr",
     "output_type": "stream",
     "text": [
      "G:\\ProgramData\\Anaconda3\\lib\\site-packages\\IPython\\core\\interactiveshell.py:2785: DtypeWarning: Columns (0) have mixed types. Specify dtype option on import or set low_memory=False.\n",
      "  interactivity=interactivity, compiler=compiler, result=result)\n"
     ]
    },
    {
     "data": {
      "text/plain": [
       "(36700, 785)"
      ]
     },
     "execution_count": 289,
     "metadata": {},
     "output_type": "execute_result"
    }
   ],
   "source": [
    "mnist_train = pd.read_csv(\"train0.csv\")\n",
    "# print(mnist_train.shape)\n",
    "for rn in range(1,10):\n",
    "    filename = \"train\"+str(rn)+\".csv\"\n",
    "#     print(filename)\n",
    "    dat = pd.read_csv(filename)\n",
    "    mnist_train = mnist_train.append(dat)\n",
    "#     print(mnist_train.shape)\n",
    "mnist_train.shape"
   ]
  },
  {
   "cell_type": "code",
   "execution_count": 290,
   "metadata": {},
   "outputs": [
    {
     "name": "stderr",
     "output_type": "stream",
     "text": [
      "G:\\ProgramData\\Anaconda3\\lib\\site-packages\\IPython\\core\\interactiveshell.py:2785: DtypeWarning: Columns (0) have mixed types. Specify dtype option on import or set low_memory=False.\n",
      "  interactivity=interactivity, compiler=compiler, result=result)\n"
     ]
    },
    {
     "data": {
      "text/plain": [
       "(23960, 785)"
      ]
     },
     "execution_count": 290,
     "metadata": {},
     "output_type": "execute_result"
    }
   ],
   "source": [
    "mnist_test = pd.read_csv(\"test0.csv\")\n",
    "# print(mnist_train.shape)\n",
    "for rn in range(1,10):\n",
    "    filename = \"test\"+str(rn)+\".csv\"\n",
    "#     print(filename)\n",
    "    dat = pd.read_csv(filename)\n",
    "    mnist_test = mnist_test.append(dat)\n",
    "#     print(mnist_train.shape)\n",
    "mnist_test.shape"
   ]
  },
  {
   "cell_type": "code",
   "execution_count": 292,
   "metadata": {},
   "outputs": [],
   "source": [
    "mnist_train.to_csv(\"master.csv\",index=None)"
   ]
  },
  {
   "cell_type": "code",
   "execution_count": 299,
   "metadata": {},
   "outputs": [],
   "source": [
    "mnist_train =mnist_train.rename(index=str, columns={'Unnamed: 0': \"target\"})\n"
   ]
  },
  {
   "cell_type": "code",
   "execution_count": 297,
   "metadata": {},
   "outputs": [
    {
     "data": {
      "text/plain": [
       "'Unnamed: 0'"
      ]
     },
     "execution_count": 297,
     "metadata": {},
     "output_type": "execute_result"
    }
   ],
   "source": [
    "mnist_train.columns[0]"
   ]
  },
  {
   "cell_type": "code",
   "execution_count": 302,
   "metadata": {},
   "outputs": [
    {
     "data": {
      "text/plain": [
       "False    36696\n",
       "True         4\n",
       "Name: target, dtype: int64"
      ]
     },
     "execution_count": 302,
     "metadata": {},
     "output_type": "execute_result"
    }
   ],
   "source": [
    "mnist_train.target.isna().value_counts()"
   ]
  },
  {
   "cell_type": "code",
   "execution_count": 303,
   "metadata": {},
   "outputs": [
    {
     "data": {
      "text/plain": [
       "(36286, 785)"
      ]
     },
     "execution_count": 303,
     "metadata": {},
     "output_type": "execute_result"
    }
   ],
   "source": [
    "mnist_train.shape\n",
    "mnist_train = mnist_train.dropna()\n",
    "mnist_train.shape"
   ]
  },
  {
   "cell_type": "code",
   "execution_count": 304,
   "metadata": {},
   "outputs": [],
   "source": [
    "from sklearn.preprocessing import StandardScaler\n",
    "features = mnist_train.columns[1:]\n",
    "x = mnist_train.loc[:, features].values\n",
    "# Separating out the target\n",
    "y = mnist_train.loc[:,['target']].values\n",
    "# Standardizing the features\n",
    "x = StandardScaler().fit_transform(x)"
   ]
  },
  {
   "cell_type": "code",
   "execution_count": 310,
   "metadata": {},
   "outputs": [],
   "source": [
    "from sklearn.decomposition import PCA\n",
    "pca = PCA(n_components=9)\n",
    "principalComponents = pca.fit_transform(x)\n",
    "D0= pd.DataFrame(data = principalComponents\n",
    "             , columns = [\"principal_component_\"+str(k) for k in range(1,10) ])"
   ]
  },
  {
   "cell_type": "code",
   "execution_count": 378,
   "metadata": {},
   "outputs": [
    {
     "data": {
      "text/html": [
       "<div>\n",
       "<style scoped>\n",
       "    .dataframe tbody tr th:only-of-type {\n",
       "        vertical-align: middle;\n",
       "    }\n",
       "\n",
       "    .dataframe tbody tr th {\n",
       "        vertical-align: top;\n",
       "    }\n",
       "\n",
       "    .dataframe thead th {\n",
       "        text-align: right;\n",
       "    }\n",
       "</style>\n",
       "<table border=\"1\" class=\"dataframe\">\n",
       "  <thead>\n",
       "    <tr style=\"text-align: right;\">\n",
       "      <th></th>\n",
       "      <th>principal_component_1</th>\n",
       "      <th>principal_component_2</th>\n",
       "      <th>principal_component_3</th>\n",
       "      <th>principal_component_4</th>\n",
       "      <th>principal_component_5</th>\n",
       "      <th>principal_component_6</th>\n",
       "      <th>principal_component_7</th>\n",
       "      <th>principal_component_8</th>\n",
       "      <th>principal_component_9</th>\n",
       "    </tr>\n",
       "  </thead>\n",
       "  <tbody>\n",
       "    <tr>\n",
       "      <th>0</th>\n",
       "      <td>5.926297</td>\n",
       "      <td>-7.552302</td>\n",
       "      <td>-2.210556</td>\n",
       "      <td>-0.000665</td>\n",
       "      <td>-4.839182</td>\n",
       "      <td>-0.424888</td>\n",
       "      <td>0.378214</td>\n",
       "      <td>6.664077</td>\n",
       "      <td>2.930316</td>\n",
       "    </tr>\n",
       "    <tr>\n",
       "      <th>1</th>\n",
       "      <td>12.920559</td>\n",
       "      <td>-7.727640</td>\n",
       "      <td>-4.290785</td>\n",
       "      <td>-7.550361</td>\n",
       "      <td>-0.074392</td>\n",
       "      <td>-1.712971</td>\n",
       "      <td>-0.456940</td>\n",
       "      <td>1.831160</td>\n",
       "      <td>0.673389</td>\n",
       "    </tr>\n",
       "    <tr>\n",
       "      <th>2</th>\n",
       "      <td>13.458245</td>\n",
       "      <td>4.206736</td>\n",
       "      <td>1.870155</td>\n",
       "      <td>-2.932728</td>\n",
       "      <td>3.332874</td>\n",
       "      <td>-4.454390</td>\n",
       "      <td>-4.461932</td>\n",
       "      <td>-3.065174</td>\n",
       "      <td>-3.760532</td>\n",
       "    </tr>\n",
       "    <tr>\n",
       "      <th>3</th>\n",
       "      <td>6.622892</td>\n",
       "      <td>-5.315292</td>\n",
       "      <td>-1.730104</td>\n",
       "      <td>-3.542029</td>\n",
       "      <td>-8.323085</td>\n",
       "      <td>-2.636027</td>\n",
       "      <td>-1.642249</td>\n",
       "      <td>3.997412</td>\n",
       "      <td>-0.100855</td>\n",
       "    </tr>\n",
       "    <tr>\n",
       "      <th>4</th>\n",
       "      <td>20.189658</td>\n",
       "      <td>-0.406177</td>\n",
       "      <td>-7.757121</td>\n",
       "      <td>-0.067839</td>\n",
       "      <td>11.703325</td>\n",
       "      <td>-8.875343</td>\n",
       "      <td>-5.635530</td>\n",
       "      <td>-1.087366</td>\n",
       "      <td>2.960485</td>\n",
       "    </tr>\n",
       "  </tbody>\n",
       "</table>\n",
       "</div>"
      ],
      "text/plain": [
       "   principal_component_1  principal_component_2  principal_component_3  \\\n",
       "0               5.926297              -7.552302              -2.210556   \n",
       "1              12.920559              -7.727640              -4.290785   \n",
       "2              13.458245               4.206736               1.870155   \n",
       "3               6.622892              -5.315292              -1.730104   \n",
       "4              20.189658              -0.406177              -7.757121   \n",
       "\n",
       "   principal_component_4  principal_component_5  principal_component_6  \\\n",
       "0              -0.000665              -4.839182              -0.424888   \n",
       "1              -7.550361              -0.074392              -1.712971   \n",
       "2              -2.932728               3.332874              -4.454390   \n",
       "3              -3.542029              -8.323085              -2.636027   \n",
       "4              -0.067839              11.703325              -8.875343   \n",
       "\n",
       "   principal_component_7  principal_component_8  principal_component_9  \n",
       "0               0.378214               6.664077               2.930316  \n",
       "1              -0.456940               1.831160               0.673389  \n",
       "2              -4.461932              -3.065174              -3.760532  \n",
       "3              -1.642249               3.997412              -0.100855  \n",
       "4              -5.635530              -1.087366               2.960485  "
      ]
     },
     "execution_count": 378,
     "metadata": {},
     "output_type": "execute_result"
    }
   ],
   "source": [
    "D0.head()"
   ]
  },
  {
   "cell_type": "code",
   "execution_count": 359,
   "metadata": {},
   "outputs": [],
   "source": [
    "x_train = np.r_[mnist_train.drop(columns=\"target\",axis=1)] \n",
    "y_train = np.asarray(mnist_train[\"target\"],dtype=np.float32)"
   ]
  },
  {
   "cell_type": "code",
   "execution_count": 328,
   "metadata": {},
   "outputs": [
    {
     "name": "stderr",
     "output_type": "stream",
     "text": [
      "G:\\ProgramData\\Anaconda3\\lib\\site-packages\\sklearn\\discriminant_analysis.py:388: UserWarning: Variables are collinear.\n",
      "  warnings.warn(\"Variables are collinear.\")\n"
     ]
    }
   ],
   "source": [
    "from sklearn.discriminant_analysis import LinearDiscriminantAnalysis\n",
    "lda  = LinearDiscriminantAnalysis(n_components=9)\n",
    "D1 = lda.fit(x_train, y_train).transform(x_train)\n"
   ]
  },
  {
   "cell_type": "code",
   "execution_count": 351,
   "metadata": {},
   "outputs": [],
   "source": [
    "D1 = pd.DataFrame(D1)"
   ]
  },
  {
   "cell_type": "code",
   "execution_count": 379,
   "metadata": {},
   "outputs": [
    {
     "data": {
      "text/html": [
       "<div>\n",
       "<style scoped>\n",
       "    .dataframe tbody tr th:only-of-type {\n",
       "        vertical-align: middle;\n",
       "    }\n",
       "\n",
       "    .dataframe tbody tr th {\n",
       "        vertical-align: top;\n",
       "    }\n",
       "\n",
       "    .dataframe thead th {\n",
       "        text-align: right;\n",
       "    }\n",
       "</style>\n",
       "<table border=\"1\" class=\"dataframe\">\n",
       "  <thead>\n",
       "    <tr style=\"text-align: right;\">\n",
       "      <th></th>\n",
       "      <th>0</th>\n",
       "      <th>1</th>\n",
       "      <th>2</th>\n",
       "      <th>3</th>\n",
       "      <th>4</th>\n",
       "      <th>5</th>\n",
       "      <th>6</th>\n",
       "      <th>7</th>\n",
       "      <th>8</th>\n",
       "    </tr>\n",
       "  </thead>\n",
       "  <tbody>\n",
       "    <tr>\n",
       "      <th>0</th>\n",
       "      <td>0.036407</td>\n",
       "      <td>0.045349</td>\n",
       "      <td>-0.068198</td>\n",
       "      <td>-0.198623</td>\n",
       "      <td>-0.330088</td>\n",
       "      <td>0.405797</td>\n",
       "      <td>-0.580191</td>\n",
       "      <td>0.931176</td>\n",
       "      <td>-1.085196</td>\n",
       "    </tr>\n",
       "    <tr>\n",
       "      <th>1</th>\n",
       "      <td>0.104156</td>\n",
       "      <td>0.063427</td>\n",
       "      <td>0.351228</td>\n",
       "      <td>0.945171</td>\n",
       "      <td>0.218504</td>\n",
       "      <td>0.591686</td>\n",
       "      <td>-0.135179</td>\n",
       "      <td>-1.361148</td>\n",
       "      <td>-1.118623</td>\n",
       "    </tr>\n",
       "    <tr>\n",
       "      <th>2</th>\n",
       "      <td>-0.107272</td>\n",
       "      <td>0.122394</td>\n",
       "      <td>-0.319237</td>\n",
       "      <td>-0.261317</td>\n",
       "      <td>0.230587</td>\n",
       "      <td>0.532803</td>\n",
       "      <td>0.035543</td>\n",
       "      <td>0.772466</td>\n",
       "      <td>0.406130</td>\n",
       "    </tr>\n",
       "    <tr>\n",
       "      <th>3</th>\n",
       "      <td>0.089141</td>\n",
       "      <td>0.046835</td>\n",
       "      <td>-0.082643</td>\n",
       "      <td>-0.022239</td>\n",
       "      <td>0.170896</td>\n",
       "      <td>0.572286</td>\n",
       "      <td>1.017736</td>\n",
       "      <td>0.959394</td>\n",
       "      <td>-0.195002</td>\n",
       "    </tr>\n",
       "    <tr>\n",
       "      <th>4</th>\n",
       "      <td>0.085726</td>\n",
       "      <td>-0.062020</td>\n",
       "      <td>0.300478</td>\n",
       "      <td>-0.834084</td>\n",
       "      <td>-0.167590</td>\n",
       "      <td>0.286470</td>\n",
       "      <td>0.185214</td>\n",
       "      <td>0.200083</td>\n",
       "      <td>-0.966069</td>\n",
       "    </tr>\n",
       "  </tbody>\n",
       "</table>\n",
       "</div>"
      ],
      "text/plain": [
       "          0         1         2         3         4         5         6  \\\n",
       "0  0.036407  0.045349 -0.068198 -0.198623 -0.330088  0.405797 -0.580191   \n",
       "1  0.104156  0.063427  0.351228  0.945171  0.218504  0.591686 -0.135179   \n",
       "2 -0.107272  0.122394 -0.319237 -0.261317  0.230587  0.532803  0.035543   \n",
       "3  0.089141  0.046835 -0.082643 -0.022239  0.170896  0.572286  1.017736   \n",
       "4  0.085726 -0.062020  0.300478 -0.834084 -0.167590  0.286470  0.185214   \n",
       "\n",
       "          7         8  \n",
       "0  0.931176 -1.085196  \n",
       "1 -1.361148 -1.118623  \n",
       "2  0.772466  0.406130  \n",
       "3  0.959394 -0.195002  \n",
       "4  0.200083 -0.966069  "
      ]
     },
     "execution_count": 379,
     "metadata": {},
     "output_type": "execute_result"
    }
   ],
   "source": [
    "D1.head()"
   ]
  },
  {
   "cell_type": "code",
   "execution_count": 342,
   "metadata": {},
   "outputs": [],
   "source": [
    "mnist_test =mnist_test.rename(index=str, columns={'Unnamed: 0': \"target\"})\n",
    "mnist_test =mnist_test.dropna()"
   ]
  },
  {
   "cell_type": "code",
   "execution_count": 343,
   "metadata": {},
   "outputs": [],
   "source": [
    "from sklearn.preprocessing import StandardScaler\n",
    "features = mnist_test.columns[1:]\n",
    "x = mnist_test.loc[:, features].values\n",
    "# Separating out the target\n",
    "y = mnist_test.loc[:,['target']].values\n",
    "# Standardizing the features\n",
    "x = StandardScaler().fit_transform(x)"
   ]
  },
  {
   "cell_type": "code",
   "execution_count": 344,
   "metadata": {},
   "outputs": [],
   "source": [
    "pca = PCA(n_components=9)\n",
    "principalComponents = pca.fit_transform(x)\n",
    "D0_test = pd.DataFrame(data = principalComponents\n",
    "             , columns = [\"principal_component_\"+str(k) for k in range(1,10) ])"
   ]
  },
  {
   "cell_type": "code",
   "execution_count": 345,
   "metadata": {},
   "outputs": [],
   "source": [
    "y_test= np.asarray(mnist_test[\"target\"],dtype=np.float32)"
   ]
  },
  {
   "cell_type": "code",
   "execution_count": 360,
   "metadata": {},
   "outputs": [
    {
     "name": "stdout",
     "output_type": "stream",
     "text": [
      "0.01584633191864631\n"
     ]
    }
   ],
   "source": [
    "\n",
    "gnb1 = GaussianNB()\n",
    "gnb1.fit(D0,y_train)\n",
    "y_pred = gnb1.predict(D0_test)\n",
    "# print(confusion_matrix(y_test, y_pred))\n",
    "print(gnb1.score(D0,y_train))"
   ]
  },
  {
   "cell_type": "code",
   "execution_count": 354,
   "metadata": {},
   "outputs": [
    {
     "name": "stdout",
     "output_type": "stream",
     "text": [
      "0.029239927244667365\n"
     ]
    }
   ],
   "source": [
    "gnb1 = GaussianNB()\n",
    "gnb1.fit(D1,y_train)\n",
    "# y_pred = gnb1.predict(D0_test)\n",
    "# print(confusion_matrix(y_test, y_pred))\n",
    "print(gnb1.score(D1,y_train))"
   ]
  },
  {
   "cell_type": "markdown",
   "metadata": {},
   "source": [
    "### PART 5 "
   ]
  },
  {
   "cell_type": "code",
   "execution_count": 365,
   "metadata": {},
   "outputs": [],
   "source": [
    "label = np.array(mnist_train[\"target\"],dtype=np.float64)"
   ]
  },
  {
   "cell_type": "code",
   "execution_count": 369,
   "metadata": {},
   "outputs": [
    {
     "name": "stdout",
     "output_type": "stream",
     "text": [
      "1\n",
      "3\n",
      "5\n",
      "7\n",
      "9\n",
      "11\n",
      "13\n",
      "15\n",
      "17\n"
     ]
    }
   ],
   "source": [
    "from sklearn.neighbors import KNeighborsClassifier\n",
    "knn_accuracy = {}\n",
    "for neig in [k for k in range(1,18) if k%2!=0]:\n",
    "    print(neig)\n",
    "    model = KNeighborsClassifier(n_neighbors=neig)\n",
    "    model.fit(D0,label)\n",
    "    knn_accuracy[neig] = model.score(D0,label)"
   ]
  },
  {
   "cell_type": "code",
   "execution_count": 372,
   "metadata": {},
   "outputs": [
    {
     "data": {
      "text/plain": [
       "[<matplotlib.lines.Line2D at 0x2ad1c2d0278>]"
      ]
     },
     "execution_count": 372,
     "metadata": {},
     "output_type": "execute_result"
    },
    {
     "data": {
      "image/png": "[encoded data removed]",
      "text/plain": [
       "<matplotlib.figure.Figure at 0x2ad3d518908>"
      ]
     },
     "metadata": {
      "needs_background": "light"
     },
     "output_type": "display_data"
    }
   ],
   "source": [
    "plt.plot(list(knn_accuracy.keys()),list(knn_accuracy.values()))"
   ]
  },
  {
   "cell_type": "code",
   "execution_count": 381,
   "metadata": {},
   "outputs": [
    {
     "name": "stdout",
     "output_type": "stream",
     "text": [
      "1\n",
      "3\n",
      "5\n",
      "7\n",
      "9\n",
      "11\n",
      "13\n",
      "15\n",
      "17\n"
     ]
    }
   ],
   "source": [
    "from sklearn.neighbors import KNeighborsClassifier\n",
    "knn_accuracy = {}\n",
    "for neig in [k for k in range(1,18) if k%2!=0]:\n",
    "    print(neig)\n",
    "    model = KNeighborsClassifier(n_neighbors=neig)\n",
    "    model.fit(D1,label)\n",
    "    knn_accuracy[neig] = model.score(D1,label)"
   ]
  },
  {
   "cell_type": "code",
   "execution_count": 382,
   "metadata": {},
   "outputs": [
    {
     "data": {
      "text/plain": [
       "[<matplotlib.lines.Line2D at 0x2ad239775f8>]"
      ]
     },
     "execution_count": 382,
     "metadata": {},
     "output_type": "execute_result"
    },
    {
     "data": {
      "image/png": "[encoded data removed]",
      "text/plain": [
       "<matplotlib.figure.Figure at 0x2ad2395e5f8>"
      ]
     },
     "metadata": {
      "needs_background": "light"
     },
     "output_type": "display_data"
    }
   ],
   "source": [
    "plt.plot(list(knn_accuracy.keys()),list(knn_accuracy.values()))"
   ]
  },
  {
   "cell_type": "code",
   "execution_count": 380,
   "metadata": {},
   "outputs": [
    {
     "ename": "KeyboardInterrupt",
     "evalue": "",
     "output_type": "error",
     "traceback": [
      "\u001b[1;31m---------------------------------------------------------------------------\u001b[0m",
      "\u001b[1;31mKeyboardInterrupt\u001b[0m                         Traceback (most recent call last)",
      "\u001b[1;32m<ipython-input-380-e62b0e8be8e2>\u001b[0m in \u001b[0;36m<module>\u001b[1;34m()\u001b[0m\n\u001b[0;32m      6\u001b[0m \u001b[1;31m#     model = KNeighborsClassifier(n_neighbors=neig)\u001b[0m\u001b[1;33m\u001b[0m\u001b[1;33m\u001b[0m\u001b[0m\n\u001b[0;32m      7\u001b[0m     \u001b[0mmodel\u001b[0m\u001b[1;33m.\u001b[0m\u001b[0mfit\u001b[0m\u001b[1;33m(\u001b[0m\u001b[0mD0\u001b[0m\u001b[1;33m,\u001b[0m\u001b[0mlabel\u001b[0m\u001b[1;33m)\u001b[0m\u001b[1;33m\u001b[0m\u001b[0m\n\u001b[1;32m----> 8\u001b[1;33m     \u001b[0mparzen_accuracy\u001b[0m\u001b[1;33m[\u001b[0m\u001b[0msigma\u001b[0m\u001b[1;33m]\u001b[0m \u001b[1;33m=\u001b[0m \u001b[0mmodel\u001b[0m\u001b[1;33m.\u001b[0m\u001b[0mscore\u001b[0m\u001b[1;33m(\u001b[0m\u001b[0mD0\u001b[0m\u001b[1;33m,\u001b[0m\u001b[0mlabel\u001b[0m\u001b[1;33m)\u001b[0m\u001b[1;33m\u001b[0m\u001b[0m\n\u001b[0m\u001b[0;32m      9\u001b[0m \u001b[1;31m#     knn_accuracy[neig] = model.score(D0,label)\u001b[0m\u001b[1;33m\u001b[0m\u001b[1;33m\u001b[0m\u001b[0m\n",
      "\u001b[1;32mG:\\ProgramData\\Anaconda3\\lib\\site-packages\\sklearn\\neighbors\\kde.py\u001b[0m in \u001b[0;36mscore\u001b[1;34m(self, X, y)\u001b[0m\n\u001b[0;32m    173\u001b[0m             \u001b[0mTotal\u001b[0m \u001b[0mlog\u001b[0m\u001b[1;33m-\u001b[0m\u001b[0mlikelihood\u001b[0m \u001b[0mof\u001b[0m \u001b[0mthe\u001b[0m \u001b[0mdata\u001b[0m \u001b[1;32min\u001b[0m \u001b[0mX\u001b[0m\u001b[1;33m.\u001b[0m\u001b[1;33m\u001b[0m\u001b[0m\n\u001b[0;32m    174\u001b[0m         \"\"\"\n\u001b[1;32m--> 175\u001b[1;33m         \u001b[1;32mreturn\u001b[0m \u001b[0mnp\u001b[0m\u001b[1;33m.\u001b[0m\u001b[0msum\u001b[0m\u001b[1;33m(\u001b[0m\u001b[0mself\u001b[0m\u001b[1;33m.\u001b[0m\u001b[0mscore_samples\u001b[0m\u001b[1;33m(\u001b[0m\u001b[0mX\u001b[0m\u001b[1;33m)\u001b[0m\u001b[1;33m)\u001b[0m\u001b[1;33m\u001b[0m\u001b[0m\n\u001b[0m\u001b[0;32m    176\u001b[0m \u001b[1;33m\u001b[0m\u001b[0m\n\u001b[0;32m    177\u001b[0m     \u001b[1;32mdef\u001b[0m \u001b[0msample\u001b[0m\u001b[1;33m(\u001b[0m\u001b[0mself\u001b[0m\u001b[1;33m,\u001b[0m \u001b[0mn_samples\u001b[0m\u001b[1;33m=\u001b[0m\u001b[1;36m1\u001b[0m\u001b[1;33m,\u001b[0m \u001b[0mrandom_state\u001b[0m\u001b[1;33m=\u001b[0m\u001b[1;32mNone\u001b[0m\u001b[1;33m)\u001b[0m\u001b[1;33m:\u001b[0m\u001b[1;33m\u001b[0m\u001b[0m\n",
      "\u001b[1;32mG:\\ProgramData\\Anaconda3\\lib\\site-packages\\sklearn\\neighbors\\kde.py\u001b[0m in \u001b[0;36mscore_samples\u001b[1;34m(self, X)\u001b[0m\n\u001b[0;32m    156\u001b[0m             \u001b[0mX\u001b[0m\u001b[1;33m,\u001b[0m \u001b[0mh\u001b[0m\u001b[1;33m=\u001b[0m\u001b[0mself\u001b[0m\u001b[1;33m.\u001b[0m\u001b[0mbandwidth\u001b[0m\u001b[1;33m,\u001b[0m \u001b[0mkernel\u001b[0m\u001b[1;33m=\u001b[0m\u001b[0mself\u001b[0m\u001b[1;33m.\u001b[0m\u001b[0mkernel\u001b[0m\u001b[1;33m,\u001b[0m \u001b[0matol\u001b[0m\u001b[1;33m=\u001b[0m\u001b[0matol_N\u001b[0m\u001b[1;33m,\u001b[0m\u001b[1;33m\u001b[0m\u001b[0m\n\u001b[0;32m    157\u001b[0m             rtol=self.rtol, breadth_first=self.breadth_first, return_log=True)\n\u001b[1;32m--> 158\u001b[1;33m         \u001b[0mlog_density\u001b[0m \u001b[1;33m-=\u001b[0m \u001b[0mnp\u001b[0m\u001b[1;33m.\u001b[0m\u001b[0mlog\u001b[0m\u001b[1;33m(\u001b[0m\u001b[0mN\u001b[0m\u001b[1;33m)\u001b[0m\u001b[1;33m\u001b[0m\u001b[0m\n\u001b[0m\u001b[0;32m    159\u001b[0m         \u001b[1;32mreturn\u001b[0m \u001b[0mlog_density\u001b[0m\u001b[1;33m\u001b[0m\u001b[0m\n\u001b[0;32m    160\u001b[0m \u001b[1;33m\u001b[0m\u001b[0m\n",
      "\u001b[1;31mKeyboardInterrupt\u001b[0m: "
     ]
    }
   ],
   "source": [
    "from sklearn.neighbors import KernelDensity\n",
    "parzen_accuracy ={}\n",
    "for sigma in range(1,31):\n",
    "#     print(parzon/100)\n",
    "    model =KernelDensity(bandwidth=sigma/100)\n",
    "#     model = KNeighborsClassifier(n_neighbors=neig)\n",
    "    model.fit(D0,label)\n",
    "    parzen_accuracy[sigma] = model.score(D0,label)\n",
    "#     knn_accuracy[neig] = model.score(D0,label)"
   ]
  },
  {
   "cell_type": "markdown",
   "metadata": {},
   "source": [
    "### PART 6"
   ]
  },
  {
   "cell_type": "code",
   "execution_count": 383,
   "metadata": {},
   "outputs": [],
   "source": [
    "from os import listdir\n",
    "from os.path import isfile, join\n",
    "import string"
   ]
  },
  {
   "cell_type": "code",
   "execution_count": 384,
   "metadata": {},
   "outputs": [],
   "source": [
    "os.chdir(\"G:\\\\ISBHyderabad\\\\Campus6\\\\DMG2\\\\Newsgroup\")"
   ]
  },
  {
   "cell_type": "code",
   "execution_count": 385,
   "metadata": {},
   "outputs": [],
   "source": [
    "my_path = '20_newsgroups'\n",
    "\n",
    "#creating a list of folder names to make valid pathnames later\n",
    "folders = [f for f in listdir(my_path)]"
   ]
  },
  {
   "cell_type": "code",
   "execution_count": 387,
   "metadata": {},
   "outputs": [],
   "source": [
    "file = []\n",
    "for foldername in folders:\n",
    "    folder_path = join(my_path, foldername)\n",
    "    file.append([f for f in listdir(folder_path)])"
   ]
  },
  {
   "cell_type": "code",
   "execution_count": 388,
   "metadata": {},
   "outputs": [],
   "source": [
    "Y = []\n",
    "for folder_name in folders:\n",
    "    folder_path = join(my_path, folder_name)\n",
    "    num_of_files= len(listdir(folder_path))\n",
    "    for i in range(num_of_files):\n",
    "        Y.append(folder_name)"
   ]
  },
  {
   "cell_type": "code",
   "execution_count": 390,
   "metadata": {},
   "outputs": [],
   "source": [
    "X_train, X_test, Y_train, Y_test = train_test_split(pathname_list, Y, random_state=0, test_size=0.25)\n"
   ]
  },
  {
   "cell_type": "code",
   "execution_count": 391,
   "metadata": {},
   "outputs": [],
   "source": [
    "def preprocess(words):\n",
    "\n",
    "    \n",
    "    table = str.maketrans('', '', '\\t')\n",
    "    words = [word.translate(table) for word in words]\n",
    "    \n",
    "    punctuations = (string.punctuation).replace(\"'\", \"\") \n",
    "    trans_table = str.maketrans('', '', punctuations)\n",
    "    stripped_words = [word.translate(trans_table) for word in words]\n",
    "    words = [str for str in stripped_words if str]\n",
    "    \n",
    "    p_words = []\n",
    "    for word in words:\n",
    "        if (word[0] and word[len(word)-1] == \"'\"):\n",
    "            word = word[1:len(word)-1]\n",
    "        elif(word[0] == \"'\"):\n",
    "            word = word[1:len(word)]\n",
    "        else:\n",
    "            word = word\n",
    "        p_words.append(word)\n",
    "    \n",
    "    words = p_words.copy()      \n",
    "    words = [word for word in words if not word.isdigit()]\n",
    "    words = [word for word in words if not len(word) == 1]\n",
    "    words = [str for str in words if str]\n",
    "    words = [word.lower() for word in words]\n",
    "    words = [word for word in words if len(word) > 2]\n",
    "    \n",
    "    return words"
   ]
  },
  {
   "cell_type": "code",
   "execution_count": 402,
   "metadata": {},
   "outputs": [],
   "source": [
    "def tokenize_sentence(line):\n",
    "    words = line[0:len(line)-1].strip().split(\" \")\n",
    "    words = preprocess(words)    \n",
    "    return words"
   ]
  },
  {
   "cell_type": "code",
   "execution_count": 399,
   "metadata": {},
   "outputs": [],
   "source": [
    "def remove_metadata(lines):\n",
    "    for i in range(len(lines)):\n",
    "        if(lines[i] == '\\n'):\n",
    "            start = i+1\n",
    "            break\n",
    "    new_lines = lines[start:]\n",
    "    return new_lines"
   ]
  },
  {
   "cell_type": "code",
   "execution_count": 394,
   "metadata": {},
   "outputs": [],
   "source": [
    "def tokenize(path):\n",
    "    f = open(path, 'r')\n",
    "    text_lines = f.readlines()\n",
    "    text_lines = remove_metadata(text_lines)\n",
    "    doc_words = []\n",
    "    for line in text_lines:\n",
    "        doc_words.append(tokenize_sentence(line))\n",
    "\n",
    "    return doc_words"
   ]
  },
  {
   "cell_type": "code",
   "execution_count": 403,
   "metadata": {},
   "outputs": [],
   "source": [
    "word_list =[]\n",
    "for wrds in X_train:\n",
    "    word_list.append(tokenize(wrds))"
   ]
  },
  {
   "cell_type": "code",
   "execution_count": 412,
   "metadata": {},
   "outputs": [],
   "source": [
    "\n",
    "word_list_d = []\n",
    "for doc in word_list:\n",
    "    for line in doc:\n",
    "        for wrd in line:\n",
    "            word_list_d.append(wrd)\n",
    "    \n"
   ]
  },
  {
   "cell_type": "code",
   "execution_count": 414,
   "metadata": {},
   "outputs": [],
   "source": [
    "from collections import Counter\n",
    "cnts = Counter(word_list_d)\n"
   ]
  },
  {
   "cell_type": "code",
   "execution_count": 420,
   "metadata": {},
   "outputs": [],
   "source": [
    "X_news_train = list(cnts.values())\n",
    "y_news_train = list(cnts.keys())"
   ]
  },
  {
   "cell_type": "code",
   "execution_count": 421,
   "metadata": {},
   "outputs": [
    {
     "ename": "ValueError",
     "evalue": "Expected 2D array, got 1D array instead:\narray=[9395    3    4 ...    1    1    1].\nReshape your data either using array.reshape(-1, 1) if your data has a single feature or array.reshape(1, -1) if it contains a single sample.",
     "output_type": "error",
     "traceback": [
      "\u001b[1;31m---------------------------------------------------------------------------\u001b[0m",
      "\u001b[1;31mValueError\u001b[0m                                Traceback (most recent call last)",
      "\u001b[1;32m<ipython-input-421-0b11a792eed4>\u001b[0m in \u001b[0;36m<module>\u001b[1;34m()\u001b[0m\n\u001b[0;32m      1\u001b[0m \u001b[1;32mfrom\u001b[0m \u001b[0msklearn\u001b[0m\u001b[1;33m.\u001b[0m\u001b[0mnaive_bayes\u001b[0m \u001b[1;32mimport\u001b[0m \u001b[0mMultinomialNB\u001b[0m\u001b[1;33m\u001b[0m\u001b[0m\n\u001b[0;32m      2\u001b[0m \u001b[0mclf\u001b[0m \u001b[1;33m=\u001b[0m \u001b[0mMultinomialNB\u001b[0m\u001b[1;33m(\u001b[0m\u001b[1;33m)\u001b[0m\u001b[1;33m\u001b[0m\u001b[0m\n\u001b[1;32m----> 3\u001b[1;33m \u001b[0mclf\u001b[0m\u001b[1;33m.\u001b[0m\u001b[0mfit\u001b[0m\u001b[1;33m(\u001b[0m\u001b[0mX_news_train\u001b[0m\u001b[1;33m,\u001b[0m \u001b[0my_news_train\u001b[0m\u001b[1;33m)\u001b[0m\u001b[1;33m\u001b[0m\u001b[0m\n\u001b[0m",
      "\u001b[1;32mG:\\ProgramData\\Anaconda3\\lib\\site-packages\\sklearn\\naive_bayes.py\u001b[0m in \u001b[0;36mfit\u001b[1;34m(self, X, y, sample_weight)\u001b[0m\n\u001b[0;32m    577\u001b[0m             \u001b[0mReturns\u001b[0m \u001b[0mself\u001b[0m\u001b[1;33m.\u001b[0m\u001b[1;33m\u001b[0m\u001b[0m\n\u001b[0;32m    578\u001b[0m         \"\"\"\n\u001b[1;32m--> 579\u001b[1;33m         \u001b[0mX\u001b[0m\u001b[1;33m,\u001b[0m \u001b[0my\u001b[0m \u001b[1;33m=\u001b[0m \u001b[0mcheck_X_y\u001b[0m\u001b[1;33m(\u001b[0m\u001b[0mX\u001b[0m\u001b[1;33m,\u001b[0m \u001b[0my\u001b[0m\u001b[1;33m,\u001b[0m \u001b[1;34m'csr'\u001b[0m\u001b[1;33m)\u001b[0m\u001b[1;33m\u001b[0m\u001b[0m\n\u001b[0m\u001b[0;32m    580\u001b[0m         \u001b[0m_\u001b[0m\u001b[1;33m,\u001b[0m \u001b[0mn_features\u001b[0m \u001b[1;33m=\u001b[0m \u001b[0mX\u001b[0m\u001b[1;33m.\u001b[0m\u001b[0mshape\u001b[0m\u001b[1;33m\u001b[0m\u001b[0m\n\u001b[0;32m    581\u001b[0m \u001b[1;33m\u001b[0m\u001b[0m\n",
      "\u001b[1;32mG:\\ProgramData\\Anaconda3\\lib\\site-packages\\sklearn\\utils\\validation.py\u001b[0m in \u001b[0;36mcheck_X_y\u001b[1;34m(X, y, accept_sparse, dtype, order, copy, force_all_finite, ensure_2d, allow_nd, multi_output, ensure_min_samples, ensure_min_features, y_numeric, warn_on_dtype, estimator)\u001b[0m\n\u001b[0;32m    571\u001b[0m     X = check_array(X, accept_sparse, dtype, order, copy, force_all_finite,\n\u001b[0;32m    572\u001b[0m                     \u001b[0mensure_2d\u001b[0m\u001b[1;33m,\u001b[0m \u001b[0mallow_nd\u001b[0m\u001b[1;33m,\u001b[0m \u001b[0mensure_min_samples\u001b[0m\u001b[1;33m,\u001b[0m\u001b[1;33m\u001b[0m\u001b[0m\n\u001b[1;32m--> 573\u001b[1;33m                     ensure_min_features, warn_on_dtype, estimator)\n\u001b[0m\u001b[0;32m    574\u001b[0m     \u001b[1;32mif\u001b[0m \u001b[0mmulti_output\u001b[0m\u001b[1;33m:\u001b[0m\u001b[1;33m\u001b[0m\u001b[0m\n\u001b[0;32m    575\u001b[0m         y = check_array(y, 'csr', force_all_finite=True, ensure_2d=False,\n",
      "\u001b[1;32mG:\\ProgramData\\Anaconda3\\lib\\site-packages\\sklearn\\utils\\validation.py\u001b[0m in \u001b[0;36mcheck_array\u001b[1;34m(array, accept_sparse, dtype, order, copy, force_all_finite, ensure_2d, allow_nd, ensure_min_samples, ensure_min_features, warn_on_dtype, estimator)\u001b[0m\n\u001b[0;32m    439\u001b[0m                     \u001b[1;34m\"Reshape your data either using array.reshape(-1, 1) if \"\u001b[0m\u001b[1;33m\u001b[0m\u001b[0m\n\u001b[0;32m    440\u001b[0m                     \u001b[1;34m\"your data has a single feature or array.reshape(1, -1) \"\u001b[0m\u001b[1;33m\u001b[0m\u001b[0m\n\u001b[1;32m--> 441\u001b[1;33m                     \"if it contains a single sample.\".format(array))\n\u001b[0m\u001b[0;32m    442\u001b[0m             \u001b[0marray\u001b[0m \u001b[1;33m=\u001b[0m \u001b[0mnp\u001b[0m\u001b[1;33m.\u001b[0m\u001b[0matleast_2d\u001b[0m\u001b[1;33m(\u001b[0m\u001b[0marray\u001b[0m\u001b[1;33m)\u001b[0m\u001b[1;33m\u001b[0m\u001b[0m\n\u001b[0;32m    443\u001b[0m             \u001b[1;31m# To ensure that array flags are maintained\u001b[0m\u001b[1;33m\u001b[0m\u001b[1;33m\u001b[0m\u001b[0m\n",
      "\u001b[1;31mValueError\u001b[0m: Expected 2D array, got 1D array instead:\narray=[9395    3    4 ...    1    1    1].\nReshape your data either using array.reshape(-1, 1) if your data has a single feature or array.reshape(1, -1) if it contains a single sample."
     ]
    }
   ],
   "source": [
    "from sklearn.naive_bayes import MultinomialNB\n",
    "clf = MultinomialNB()\n",
    "clf.fit(X_news_train, y_news_train)"
   ]
  },
  {
   "cell_type": "code",
   "execution_count": 423,
   "metadata": {},
   "outputs": [
    {
     "data": {
      "text/plain": [
       "Counter({'article': 9395,\n",
       "         '1r11184vsterminatorrsitdumichedu': 3,\n",
       "         'jloveivritraitdumichedu': 4,\n",
       "         'jack': 263,\n",
       "         'love': 920,\n",
       "         'writes': 10997,\n",
       "         'faced': 64,\n",
       "         'the': 186626,\n",
       "         'branch': 286,\n",
       "         'davidians': 218,\n",
       "         'latter': 166,\n",
       "         'reality': 399,\n",
       "         'would': 11846,\n",
       "         'likely': 737,\n",
       "         'have': 23615,\n",
       "         'been': 5915,\n",
       "         'charged': 81,\n",
       "         'with': 21971,\n",
       "         'weapons': 537,\n",
       "         'violations': 71,\n",
       "         'and': 73110,\n",
       "         'other': 6610,\n",
       "         'sorts': 133,\n",
       "         'crimes': 164,\n",
       "         'most': 3537,\n",
       "         'them': 6463,\n",
       "         'gotten': 224,\n",
       "         'off': 2308,\n",
       "         'entirely': 279,\n",
       "         'highly': 257,\n",
       "         'unlikely': 154,\n",
       "         'that': 50311,\n",
       "         'anyone': 3236,\n",
       "         'than': 6206,\n",
       "         'vernon': 38,\n",
       "         'howell': 32,\n",
       "         'imprisoned': 20,\n",
       "         'for': 34875,\n",
       "         'very': 4002,\n",
       "         'long': 1720,\n",
       "         'will': 11392,\n",
       "         'see': 4089,\n",
       "         'what': 12075,\n",
       "         'happen': 625,\n",
       "         'survivors': 146,\n",
       "         \"don't\": 7469,\n",
       "         'forget': 377,\n",
       "         'however': 1835,\n",
       "         'members': 579,\n",
       "         'cult': 287,\n",
       "         'are': 23651,\n",
       "         'responsible': 414,\n",
       "         'deaths': 173,\n",
       "         'atf': 218,\n",
       "         'agents': 310,\n",
       "         'you': 32742,\n",
       "         'really': 2884,\n",
       "         'expect': 590,\n",
       "         'koresh': 594,\n",
       "         'dead': 722,\n",
       "         'alive': 226,\n",
       "         'take': 2432,\n",
       "         'sole': 63,\n",
       "         'responsibility': 301,\n",
       "         'this': 25560,\n",
       "         'can': 12177,\n",
       "         'just': 7316,\n",
       "         'now': 4311,\n",
       "         'survivior': 4,\n",
       "         'trial': 261,\n",
       "         'was': 16937,\n",
       "         'following': 1287,\n",
       "         'orders': 139,\n",
       "         'where': 3257,\n",
       "         'heard': 1227,\n",
       "         'before': 2455,\n",
       "         'two': 3627,\n",
       "         'wrongs': 14,\n",
       "         'make': 3815,\n",
       "         'right': 3473,\n",
       "         'but': 17078,\n",
       "         'three': 1219,\n",
       "         'rights': 980,\n",
       "         'left': 1104,\n",
       "         'there': 11383,\n",
       "         'few': 1878,\n",
       "         'groups': 635,\n",
       "         'continue': 382,\n",
       "         'believe': 2796,\n",
       "         'christians': 811,\n",
       "         'worship': 192,\n",
       "         'sabbath': 98,\n",
       "         'saturday': 107,\n",
       "         'bestknown': 4,\n",
       "         'seventhday': 4,\n",
       "         'adventists': 7,\n",
       "         \"jehovah's\": 13,\n",
       "         'witnesses': 112,\n",
       "         'they': 15922,\n",
       "         'argue': 282,\n",
       "         'act': 534,\n",
       "         'not': 23821,\n",
       "         'regular': 303,\n",
       "         'service': 704,\n",
       "         'special': 582,\n",
       "         'meeting': 191,\n",
       "         'paul': 768,\n",
       "         'cor': 54,\n",
       "         \"doesn't\": 2110,\n",
       "         'explicitly': 109,\n",
       "         'say': 3654,\n",
       "         \"it's\": 4913,\n",
       "         'required': 422,\n",
       "         'observe': 83,\n",
       "         'whether': 1218,\n",
       "         'sunday': 230,\n",
       "         'part': 1890,\n",
       "         'covenent': 2,\n",
       "         'between': 1945,\n",
       "         'god': 3474,\n",
       "         'israelites': 52,\n",
       "         'steve': 737,\n",
       "         'peterson': 16,\n",
       "         'dplattntgcom': 3,\n",
       "         'dave': 544,\n",
       "         'platt': 5,\n",
       "         'kind': 1152,\n",
       "         'power': 1711,\n",
       "         'must': 2186,\n",
       "         'putting': 266,\n",
       "         'out': 7673,\n",
       "         'cause': 834,\n",
       "         'effects': 283,\n",
       "         'affected': 95,\n",
       "         'equipment': 341,\n",
       "         'about': 10602,\n",
       "         'feet': 220,\n",
       "         'from': 14228,\n",
       "         'road': 499,\n",
       "         'might': 2388,\n",
       "         'couple': 708,\n",
       "         'hundred': 182,\n",
       "         'watts': 66,\n",
       "         'sound': 625,\n",
       "         'kicking': 33,\n",
       "         'stereo': 121,\n",
       "         'speakers': 95,\n",
       "         'direct': 310,\n",
       "         'rectification': 11,\n",
       "         'requires': 328,\n",
       "         'mighty': 60,\n",
       "         'strong': 487,\n",
       "         'carrier': 56,\n",
       "         \"i've\": 2503,\n",
       "         'linears': 1,\n",
       "         'powerful': 187,\n",
       "         'triggering': 4,\n",
       "         'while': 2244,\n",
       "         'car': 1523,\n",
       "         'idling': 7,\n",
       "         'stall': 17,\n",
       "         'engine': 407,\n",
       "         'pulling': 72,\n",
       "         'down': 1825,\n",
       "         'battery': 233,\n",
       "         'voltage': 153,\n",
       "         'lot': 1611,\n",
       "         'more': 7303,\n",
       "         'sounds': 487,\n",
       "         'like': 7389,\n",
       "         'radio': 551,\n",
       "         'actually': 1667,\n",
       "         'shut': 133,\n",
       "         'completely': 482,\n",
       "         'goes': 683,\n",
       "         'standby': 13,\n",
       "         'situation': 664,\n",
       "         'suspect': 358,\n",
       "         'stories': 190,\n",
       "         'only': 6390,\n",
       "         'sucked': 20,\n",
       "         'far': 1506,\n",
       "         'instantaneously': 3,\n",
       "         'when': 7374,\n",
       "         'try': 1665,\n",
       "         'jumpstart': 1,\n",
       "         'someones': 13,\n",
       "         'your': 9483,\n",
       "         'vehicle': 259,\n",
       "         'idle': 108,\n",
       "         'does': 5289,\n",
       "         'crank': 17,\n",
       "         'well': 4034,\n",
       "         'because': 4402,\n",
       "         'too': 2787,\n",
       "         'low': 617,\n",
       "         'start': 1121,\n",
       "         'extra': 395,\n",
       "         'current': 913,\n",
       "         'drawn': 117,\n",
       "         'speed': 846,\n",
       "         'drop': 241,\n",
       "         'alternator': 16,\n",
       "         'loads': 54,\n",
       "         'compensate': 24,\n",
       "         'increased': 166,\n",
       "         'amperage': 3,\n",
       "         'requirement': 79,\n",
       "         'resolution': 253,\n",
       "         'problem': 2621,\n",
       "         'matter': 970,\n",
       "         'company': 660,\n",
       "         'fcc': 27,\n",
       "         'both': 2282,\n",
       "         'ultimately': 76,\n",
       "         'resolve': 61,\n",
       "         \"i'm\": 4868,\n",
       "         'afraid': 227,\n",
       "         'understaffed': 1,\n",
       "         'pay': 888,\n",
       "         'much': 3746,\n",
       "         'attention': 252,\n",
       "         'citizen': 148,\n",
       "         'complains': 22,\n",
       "         'rfi': 13,\n",
       "         \"they'll\": 183,\n",
       "         'send': 1320,\n",
       "         'pamphlet': 16,\n",
       "         'describing': 92,\n",
       "         'how': 6301,\n",
       "         'apply': 364,\n",
       "         'corrective': 7,\n",
       "         'measures': 122,\n",
       "         'talking': 728,\n",
       "         'help': 2037,\n",
       "         'able': 1344,\n",
       "         'install': 262,\n",
       "         'filtering': 37,\n",
       "         'devices': 388,\n",
       "         'panel': 160,\n",
       "         'recommend': 184,\n",
       "         'type': 829,\n",
       "         'which': 8144,\n",
       "         'could': 4526,\n",
       "         'installed': 361,\n",
       "         'licensed': 84,\n",
       "         'electrician': 10,\n",
       "         'transmitter': 38,\n",
       "         'going': 2410,\n",
       "         'affecting': 24,\n",
       "         'house': 694,\n",
       "         'surges': 3,\n",
       "         'occurring': 20,\n",
       "         'due': 596,\n",
       "         'another': 2092,\n",
       "         'unfortunately': 409,\n",
       "         \"there's\": 924,\n",
       "         'fair': 276,\n",
       "         'chance': 437,\n",
       "         'enough': 1606,\n",
       "         'signal': 269,\n",
       "         'being': 3209,\n",
       "         'picked': 138,\n",
       "         'wiring': 149,\n",
       "         'simple': 686,\n",
       "         'servicepanel': 1,\n",
       "         'filter': 93,\n",
       "         \"won't\": 876,\n",
       "         'suffice': 34,\n",
       "         'may': 4077,\n",
       "         'need': 2825,\n",
       "         'heavyduty': 5,\n",
       "         'filters': 56,\n",
       "         'connections': 80,\n",
       "         'probably': 1723,\n",
       "         'often': 913,\n",
       "         'toroid': 6,\n",
       "         'coils': 11,\n",
       "         'leads': 193,\n",
       "         'solve': 120,\n",
       "         'interference': 75,\n",
       "         'internal': 350,\n",
       "         'deficiencies': 9,\n",
       "         'occurs': 161,\n",
       "         'regularly': 94,\n",
       "         'stake': 27,\n",
       "         'street': 384,\n",
       "         'question': 2058,\n",
       "         'watch': 369,\n",
       "         'trucks': 57,\n",
       "         'cars': 540,\n",
       "         'big': 1098,\n",
       "         'antennae': 10,\n",
       "         'driving': 303,\n",
       "         'time': 4934,\n",
       "         'identify': 111,\n",
       "         'transmitting': 20,\n",
       "         'contact': 759,\n",
       "         'its': 3078,\n",
       "         'owner': 183,\n",
       "         'complain': 110,\n",
       "         'fault': 185,\n",
       "         'person': 1278,\n",
       "         'amateur': 127,\n",
       "         'then': 5154,\n",
       "         'heshe': 52,\n",
       "         'willing': 514,\n",
       "         'explain': 547,\n",
       "         'causing': 100,\n",
       "         'bill': 1138,\n",
       "         \"cd's\": 28,\n",
       "         'sale': 496,\n",
       "         'each': 1789,\n",
       "         'plus': 524,\n",
       "         'shipping': 329,\n",
       "         'body': 646,\n",
       "         'count': 286,\n",
       "         'without': 2155,\n",
       "         'cop': 96,\n",
       "         'killer': 31,\n",
       "         'mtv': 31,\n",
       "         'raps': 1,\n",
       "         'volume': 396,\n",
       "         'skid': 6,\n",
       "         'row': 75,\n",
       "         '1st': 353,\n",
       "         'album': 22,\n",
       "         'bryan': 80,\n",
       "         'adams': 154,\n",
       "         'waking': 21,\n",
       "         'neighbours': 22,\n",
       "         'temple': 88,\n",
       "         'dog': 201,\n",
       "         'music': 182,\n",
       "         'factory': 72,\n",
       "         'gonna': 132,\n",
       "         'sweat': 15,\n",
       "         'ibm': 406,\n",
       "         'games': 902,\n",
       "         'eye': 193,\n",
       "         'beholder': 10,\n",
       "         'cluebook': 1,\n",
       "         'pools': 20,\n",
       "         'darkness': 53,\n",
       "         'jet': 107,\n",
       "         'fighter': 24,\n",
       "         'books': 664,\n",
       "         'ancient': 161,\n",
       "         'egypt': 86,\n",
       "         'social': 308,\n",
       "         'history': 887,\n",
       "         'retail': 67,\n",
       "         'sell': 577,\n",
       "         'encyclopedia': 29,\n",
       "         'hardcover': 20,\n",
       "         'pages': 292,\n",
       "         'physics': 264,\n",
       "         'also': 5566,\n",
       "         'yes': 1422,\n",
       "         'haggle': 12,\n",
       "         'email': 2383,\n",
       "         'offers': 220,\n",
       "         'vormoothathenamitedu': 1,\n",
       "         'file': 2233,\n",
       "         'simtel': 12,\n",
       "         'archives': 127,\n",
       "         'called': 1380,\n",
       "         'adda10zip': 1,\n",
       "         'think': 5846,\n",
       "         'dsp': 52,\n",
       "         'c60itu4dnmyrddinimatcom': 2,\n",
       "         'nelsonseahuntimatcom': 8,\n",
       "         'michael': 771,\n",
       "         'nelson': 69,\n",
       "         '1993apr231638059516researchnjneccom': 2,\n",
       "         'behannasylnjneccom': 37,\n",
       "         'chris': 356,\n",
       "         'behanna': 19,\n",
       "         'spray': 22,\n",
       "         'chain': 120,\n",
       "         'wax': 50,\n",
       "         'onto': 200,\n",
       "         'rollers': 16,\n",
       "         'sideplates': 2,\n",
       "         'occassionally': 12,\n",
       "         'rust': 23,\n",
       "         'did': 3382,\n",
       "         'interesting': 648,\n",
       "         'all': 11887,\n",
       "         \"haven't\": 630,\n",
       "         'seen': 1319,\n",
       "         'any': 8818,\n",
       "         'wear': 123,\n",
       "         'miles': 393,\n",
       "         'used': 3097,\n",
       "         'stuff': 993,\n",
       "         'ninja': 40,\n",
       "         'bike': 561,\n",
       "         'stays': 43,\n",
       "         'soooo': 6,\n",
       "         'clean': 207,\n",
       "         \"i'll\": 1080,\n",
       "         'check': 714,\n",
       "         'back': 2495,\n",
       "         'again': 1739,\n",
       "         'thousand': 158,\n",
       "         \"we're\": 627,\n",
       "         'subject': 1220,\n",
       "         'whereinthehell': 1,\n",
       "         'find': 2422,\n",
       "         '532x110': 1,\n",
       "         'endless': 34,\n",
       "         'dealer': 290,\n",
       "         'rivettype': 1,\n",
       "         'master': 217,\n",
       "         'links': 56,\n",
       "         'acceptable': 189,\n",
       "         'later': 801,\n",
       "         'behannadod': 23,\n",
       "         'fxwg': 23,\n",
       "         'wide': 242,\n",
       "         'glide': 26,\n",
       "         \"jubilee's\": 23,\n",
       "         'red': 550,\n",
       "         'lady': 112,\n",
       "         'cb360t': 29,\n",
       "         'baby': 144,\n",
       "         'disclaimer': 406,\n",
       "         'why': 3864,\n",
       "         'nec': 180,\n",
       "         'zx11': 35,\n",
       "         'needs': 634,\n",
       "         'name': 1430,\n",
       "         'agree': 999,\n",
       "         'anyway': 783,\n",
       "         'raised': 205,\n",
       "         'pack': 87,\n",
       "         'wild': 132,\n",
       "         'corn': 39,\n",
       "         'dogs': 107,\n",
       "         'currently': 490,\n",
       "         'having': 1330,\n",
       "         'trouble': 365,\n",
       "         'connecting': 41,\n",
       "         'true': 1737,\n",
       "         'blue': 387,\n",
       "         'model': 591,\n",
       "         'vga': 247,\n",
       "         'monitor': 615,\n",
       "         'display': 716,\n",
       "         'bearly': 1,\n",
       "         'readable': 23,\n",
       "         'details': 392,\n",
       "         'seperated': 5,\n",
       "         'into': 3938,\n",
       "         'yellow': 60,\n",
       "         'colors': 262,\n",
       "         'window': 1143,\n",
       "         'images': 542,\n",
       "         'one': 11214,\n",
       "         'ghost': 96,\n",
       "         'image': 1120,\n",
       "         'background': 222,\n",
       "         'little': 1778,\n",
       "         'greenish': 1,\n",
       "         'read': 2069,\n",
       "         'some': 8452,\n",
       "         'ago': 975,\n",
       "         'ever': 1321,\n",
       "         'thought': 1234,\n",
       "         'hook': 97,\n",
       "         'mac': 814,\n",
       "         'screen': 591,\n",
       "         'incompatability': 6,\n",
       "         'monitors': 182,\n",
       "         'sync': 63,\n",
       "         'green': 329,\n",
       "         'same': 3105,\n",
       "         'demon': 26,\n",
       "         'hardware': 629,\n",
       "         'diode': 21,\n",
       "         'solution': 346,\n",
       "         'software': 1544,\n",
       "         'somebody': 337,\n",
       "         'post': 1342,\n",
       "         'checked': 175,\n",
       "         \"faq's\": 13,\n",
       "         \"didn't\": 1747,\n",
       "         'anything': 1820,\n",
       "         'miss': 125,\n",
       "         'somewhere': 320,\n",
       "         'sure': 2170,\n",
       "         'seems': 1751,\n",
       "         'good': 4379,\n",
       "         'thing': 1992,\n",
       "         'thanks': 2246,\n",
       "         'replys': 5,\n",
       "         'charles': 222,\n",
       "         'kuehmann': 4,\n",
       "         'northwestern': 14,\n",
       "         'university': 1942,\n",
       "         'steel': 98,\n",
       "         'research': 1034,\n",
       "         'group': 1469,\n",
       "         '1993apr252200337284mathuclaedu': 1,\n",
       "         'dsteinoakmathuclaedu': 1,\n",
       "         'david': 1476,\n",
       "         'stein': 49,\n",
       "         'jarkko': 10,\n",
       "         'ketolainen': 2,\n",
       "         'disaster': 70,\n",
       "         'finland': 117,\n",
       "         'beaten': 48,\n",
       "         'czech': 42,\n",
       "         '4th': 107,\n",
       "         'pool': 106,\n",
       "         'certainly': 841,\n",
       "         'meet': 257,\n",
       "         'canada': 610,\n",
       "         'quarter': 71,\n",
       "         'final': 376,\n",
       "         'wednesday': 91,\n",
       "         '28th': 31,\n",
       "         'look': 1900,\n",
       "         'positively': 20,\n",
       "         'finns': 13,\n",
       "         'kick': 58,\n",
       "         'last': 2254,\n",
       "         'world': 1889,\n",
       "         'cup': 270,\n",
       "         'eventually': 226,\n",
       "         'lost': 579,\n",
       "         'sweden': 144,\n",
       "         'peter': 500,\n",
       "         '48299sdcc12ucsdedu': 3,\n",
       "         'ma170sajsdcc14ucsdedu': 3,\n",
       "         'system': 3139,\n",
       "         'operator': 78,\n",
       "         'painfully': 14,\n",
       "         'witnessed': 49,\n",
       "         'azerbaijan': 159,\n",
       "         'joke': 132,\n",
       "         'month': 347,\n",
       "         'fascist': 58,\n",
       "         'grandparents': 19,\n",
       "         'exterminated': 35,\n",
       "         'million': 517,\n",
       "         'muslim': 390,\n",
       "         'people': 7465,\n",
       "         'nazi': 201,\n",
       "         'parents': 221,\n",
       "         'fully': 283,\n",
       "         'participated': 46,\n",
       "         'extermination': 62,\n",
       "         'european': 257,\n",
       "         'jewry': 16,\n",
       "         'during': 1119,\n",
       "         'wwii': 65,\n",
       "         'criminal': 238,\n",
       "         'cousins': 8,\n",
       "         'slaughtering': 9,\n",
       "         'women': 601,\n",
       "         'children': 1158,\n",
       "         'elderly': 37,\n",
       "         'xsoviet': 164,\n",
       "         'armenia': 439,\n",
       "         'karabag': 31,\n",
       "         'four': 573,\n",
       "         'years': 2237,\n",
       "         'entire': 422,\n",
       "         'population': 495,\n",
       "         'result': 541,\n",
       "         'genocide': 404,\n",
       "         'armenians': 656,\n",
       "         'nearly': 234,\n",
       "         'turkish': 840,\n",
       "         'kurdish': 60,\n",
       "         'lived': 222,\n",
       "         'their': 7314,\n",
       "         'homeland': 87,\n",
       "         'under': 1918,\n",
       "         'oppressive': 24,\n",
       "         'soviet': 303,\n",
       "         'armenian': 777,\n",
       "         'occupation': 119,\n",
       "         'persecutions': 11,\n",
       "         'culminated': 8,\n",
       "         'government': 2300,\n",
       "         'planned': 139,\n",
       "         'carried': 213,\n",
       "         'against': 1799,\n",
       "         'subjects': 82,\n",
       "         'turks': 375,\n",
       "         'kurds': 92,\n",
       "         'were': 7253,\n",
       "         'murdered': 91,\n",
       "         'remainder': 29,\n",
       "         'driven': 161,\n",
       "         'after': 3065,\n",
       "         'lands': 78,\n",
       "         'empty': 115,\n",
       "         'found': 1343,\n",
       "         'safe': 286,\n",
       "         'heaven': 334,\n",
       "         'turkiye': 45,\n",
       "         'today': 1016,\n",
       "         'rejects': 26,\n",
       "         'return': 534,\n",
       "         'occupied': 145,\n",
       "         'covers': 78,\n",
       "         'perpetrated': 34,\n",
       "         'predecessors': 13,\n",
       "         'therefore': 646,\n",
       "         'accessory': 19,\n",
       "         'crime': 510,\n",
       "         'humanity': 98,\n",
       "         'muslims': 434,\n",
       "         'admitting': 46,\n",
       "         'making': 826,\n",
       "         'reparations': 19,\n",
       "         'demand': 183,\n",
       "         'determine': 242,\n",
       "         'own': 2256,\n",
       "         'future': 578,\n",
       "         'nation': 251,\n",
       "         '78th': 16,\n",
       "         'anniversary': 47,\n",
       "         'come': 1865,\n",
       "         'once': 1164,\n",
       "         'reiterate': 15,\n",
       "         'unity': 46,\n",
       "         'timelessness': 2,\n",
       "         'demands': 81,\n",
       "         'desire': 155,\n",
       "         'pursue': 43,\n",
       "         'struggle': 97,\n",
       "         'restitution': 5,\n",
       "         'unites': 4,\n",
       "         'appeal': 94,\n",
       "         'united': 569,\n",
       "         'states': 945,\n",
       "         'participate': 93,\n",
       "         'masse': 5,\n",
       "         'commemorative': 9,\n",
       "         'events': 407,\n",
       "         'cultural': 123,\n",
       "         'political': 594,\n",
       "         'religious': 745,\n",
       "         'serdar': 138,\n",
       "         'argic': 126,\n",
       "         'closed': 312,\n",
       "         'roads': 199,\n",
       "         'mountain': 201,\n",
       "         'passes': 159,\n",
       "         'serve': 312,\n",
       "         'ways': 476,\n",
       "         'escape': 245,\n",
       "         'proceeded': 136,\n",
       "         'work': 2881,\n",
       "         'xtermination': 101,\n",
       "         'ohanus': 113,\n",
       "         'appressian': 111,\n",
       "         'longer': 600,\n",
       "         'exists': 484,\n",
       "         'single': 746,\n",
       "         'oul': 101,\n",
       "         'sahak': 107,\n",
       "         'melkonian': 107,\n",
       "         'throughout': 177,\n",
       "         'statements': 310,\n",
       "         'questions': 951,\n",
       "         'easily': 390,\n",
       "         'interpreted': 69,\n",
       "         'sarcastic': 19,\n",
       "         'written': 591,\n",
       "         'reply': 482,\n",
       "         'evenhanded': 3,\n",
       "         'manner': 177,\n",
       "         'emotions': 42,\n",
       "         'boiling': 19,\n",
       "         'surface': 226,\n",
       "         'please': 2650,\n",
       "         'accept': 604,\n",
       "         'serious': 440,\n",
       "         'attempt': 377,\n",
       "         'foster': 28,\n",
       "         'dialog': 74,\n",
       "         'rest': 641,\n",
       "         'assurred': 1,\n",
       "         'every': 1721,\n",
       "         'fun': 256,\n",
       "         'except': 618,\n",
       "         'myself': 655,\n",
       "         'gsu0033uxaecnbguedu': 6,\n",
       "         'eric': 387,\n",
       "         'molas': 6,\n",
       "         'firstly': 31,\n",
       "         'atheist': 285,\n",
       "         'posting': 713,\n",
       "         'here': 3151,\n",
       "         'immature': 17,\n",
       "         'flame': 241,\n",
       "         'rather': 1461,\n",
       "         'express': 101,\n",
       "         'opinion': 746,\n",
       "         'intended': 300,\n",
       "         'audience': 73,\n",
       "         'human': 1158,\n",
       "         'animal': 116,\n",
       "         'who': 8470,\n",
       "         'has': 9577,\n",
       "         'hisher': 61,\n",
       "         'advanced': 177,\n",
       "         'mental': 102,\n",
       "         'facilities': 103,\n",
       "         'developed': 291,\n",
       "         'satisfiable': 2,\n",
       "         'unexplainable': 7,\n",
       "         'hmmm': 107,\n",
       "         'animals': 175,\n",
       "         'planet': 159,\n",
       "         'religion': 939,\n",
       "         'satisfactory': 21,\n",
       "         'explaination': 12,\n",
       "         'unexplained': 6,\n",
       "         'further': 550,\n",
       "         'appears': 479,\n",
       "         'humans': 254,\n",
       "         'including': 881,\n",
       "         'those': 3716,\n",
       "         'seem': 1145,\n",
       "         'perfectly': 187,\n",
       "         'content': 146,\n",
       "         'ignorance': 156,\n",
       "         \"i'd\": 1426,\n",
       "         'point': 2340,\n",
       "         'presuppositions': 4,\n",
       "         'scream': 35,\n",
       "         'unsupported': 19,\n",
       "         'statement': 646,\n",
       "         'crutch': 8,\n",
       "         'researched': 11,\n",
       "         'made': 2062,\n",
       "         'address': 935,\n",
       "         'perceived': 48,\n",
       "         'biological': 81,\n",
       "         'aspect': 94,\n",
       "         'deified': 2,\n",
       "         'aspects': 146,\n",
       "         'life': 1436,\n",
       "         'categorized': 10,\n",
       "         'hierarchical': 10,\n",
       "         'structure': 191,\n",
       "         'biology': 82,\n",
       "         'apex': 5,\n",
       "         'needless': 40,\n",
       "         'disagree': 278,\n",
       "         'underlying': 51,\n",
       "         'christianity': 497,\n",
       "         'infectious': 55,\n",
       "         'reasons': 466,\n",
       "         'flourishes': 5,\n",
       "         'gives': 465,\n",
       "         'hope': 955,\n",
       "         'purpose': 482,\n",
       "         'safety': 378,\n",
       "         'blanked': 7,\n",
       "         'hide': 112,\n",
       "         'behind': 513,\n",
       "         'wowall': 3,\n",
       "         'follow': 464,\n",
       "         'christian': 1003,\n",
       "         'moral': 679,\n",
       "         'standard': 1018,\n",
       "         'get': 6324,\n",
       "         'eternal': 280,\n",
       "         'happiness': 50,\n",
       "         'jeezus': 9,\n",
       "         'many': 3775,\n",
       "         'brink': 5,\n",
       "         'shown': 276,\n",
       "         'itself': 662,\n",
       "         'persistent': 40,\n",
       "         'belief': 469,\n",
       "         'spite': 46,\n",
       "         'various': 548,\n",
       "         'past': 627,\n",
       "         'millenia': 17,\n",
       "         'continues': 117,\n",
       "         'persevere': 9,\n",
       "         'demonstrate': 74,\n",
       "         'derrogatory': 1,\n",
       "         'sense': 741,\n",
       "         'provides': 296,\n",
       "         'workable': 25,\n",
       "         'adherents': 11,\n",
       "         'case': 1770,\n",
       "         'blanket': 32,\n",
       "         'supplants': 2,\n",
       "         'points': 521,\n",
       "         'individual': 453,\n",
       "         'source': 1021,\n",
       "         'nothing': 1517,\n",
       "         'hidden': 118,\n",
       "         \"christian's\": 10,\n",
       "         'usefulness': 26,\n",
       "         'distinction': 87,\n",
       "         'internally': 27,\n",
       "         'motivated': 67,\n",
       "         'externally': 13,\n",
       "         'given': 1200,\n",
       "         'apparent': 118,\n",
       "         'loss': 266,\n",
       "         'control': 1096,\n",
       "         'over': 3037,\n",
       "         \"one's\": 208,\n",
       "         'something': 2777,\n",
       "         'else': 1427,\n",
       "         'finally': 438,\n",
       "         'appropriate': 333,\n",
       "         'standards': 296,\n",
       "         'indeed': 472,\n",
       "         'reason': 1416,\n",
       "         'existance': 56,\n",
       "         'inadequate': 39,\n",
       "         'save': 494,\n",
       "         'imperfections': 7,\n",
       "         'merely': 312,\n",
       "         'guides': 14,\n",
       "         'real': 1516,\n",
       "         'living': 468,\n",
       "         \"god's\": 441,\n",
       "         'spirit': 313,\n",
       "         'doctrine': 186,\n",
       "         'postulates': 14,\n",
       "         'generally': 389,\n",
       "         'live': 888,\n",
       "         'according': 630,\n",
       "         'promised': 111,\n",
       "         'reward': 51,\n",
       "         'benefits': 95,\n",
       "         'hereandnow': 1,\n",
       "         'digress': 10,\n",
       "         'nature': 475,\n",
       "         'best': 1682,\n",
       "         'friend': 520,\n",
       "         'mine': 643,\n",
       "         'breifly': 3,\n",
       "         'entered': 102,\n",
       "         'within': 733,\n",
       "         'months': 628,\n",
       "         'set': 1667,\n",
       "         'ministry': 102,\n",
       "         'guidelines': 91,\n",
       "         'him': 2587,\n",
       "         'basicaly': 4,\n",
       "         'said': 3149,\n",
       "         'priority': 55,\n",
       "         'spread': 166,\n",
       "         'word': 1158,\n",
       "         'organizations': 211,\n",
       "         'concerned': 298,\n",
       "         'evangelism': 16,\n",
       "         'rightly': 23,\n",
       "         'jesus': 1504,\n",
       "         'himself': 526,\n",
       "         'gave': 441,\n",
       "         'his': 5723,\n",
       "         'followers': 174,\n",
       "         'penultimate': 2,\n",
       "         'normally': 213,\n",
       "         'understood': 152,\n",
       "         'preach': 44,\n",
       "         'convert': 288,\n",
       "         'cost': 769,\n",
       "         'repeat': 145,\n",
       "         'new': 4264,\n",
       "         'infinitum': 5,\n",
       "         'such': 3488,\n",
       "         'done': 1302,\n",
       "         'through': 2021,\n",
       "         'respecting': 16,\n",
       "         'opinions': 1031,\n",
       "         'others': 1379,\n",
       "         'demonstrating': 28,\n",
       "         'lifestyle': 39,\n",
       "         'demonstration': 62,\n",
       "         'should': 4674,\n",
       "         'compels': 3,\n",
       "         'nonchristian': 26,\n",
       "         'seek': 139,\n",
       "         'ask': 1004,\n",
       "         'accom': 1,\n",
       "         'plished': 1,\n",
       "         'takes': 491,\n",
       "         'radical': 52,\n",
       "         'committment': 3,\n",
       "         'quickly': 244,\n",
       "         'perseverance': 2,\n",
       "         'cannot': 1084,\n",
       "         'occur': 176,\n",
       "         'personal': 653,\n",
       "         'bonds': 115,\n",
       "         'friendship': 25,\n",
       "         'exist': 631,\n",
       "         'ineffective': 32,\n",
       "         'strangers': 20,\n",
       "         'evaluate': 53,\n",
       "         'easy': 625,\n",
       "         'alienate': 3,\n",
       "         'harm': 140,\n",
       "         'gain': 186,\n",
       "         'conversion': 145,\n",
       "         'longtime': 14,\n",
       "         'view': 676,\n",
       "         'skep': 1,\n",
       "         'ticism': 1,\n",
       "         'programs': 783,\n",
       "         'incorporate': 28,\n",
       "         'hurryup': 2,\n",
       "         'attitude': 228,\n",
       "         'pressured': 7,\n",
       "         'conversions': 13,\n",
       "         'worse': 353,\n",
       "         'realizes': 10,\n",
       "         'she': 1403,\n",
       "         'coerced': 11,\n",
       "         'disavows': 4,\n",
       "         'open': 859,\n",
       "         'had': 6160,\n",
       "         'taken': 709,\n",
       "         'advantage': 242,\n",
       "         'bible': 993,\n",
       "         'brings': 80,\n",
       "         'conviction': 67,\n",
       "         'wrongdoing': 11,\n",
       "         'witness': 102,\n",
       "         'let': 1395,\n",
       "         'sleep': 181,\n",
       "         'food': 417,\n",
       "         'reproduce': 32,\n",
       "         'die': 448,\n",
       "         'eat': 220,\n",
       "         'capable': 200,\n",
       "         'vision': 153,\n",
       "         'yourself': 565,\n",
       "         'limited': 387,\n",
       "         'pray': 182,\n",
       "         'someday': 50,\n",
       "         'expansive': 3,\n",
       "         'reflection': 40,\n",
       "         'variety': 164,\n",
       "         'performing': 58,\n",
       "         'arts': 46,\n",
       "         'learn': 422,\n",
       "         'language': 425,\n",
       "         'organize': 23,\n",
       "         'themselves': 830,\n",
       "         'structures': 52,\n",
       "         'whereas': 97,\n",
       "         'especially': 743,\n",
       "         'drug': 437,\n",
       "         'blatant': 33,\n",
       "         'assertion': 150,\n",
       "         'physically': 66,\n",
       "         'addictive': 10,\n",
       "         'psychologically': 9,\n",
       "         'snortsingestsshootsup': 1,\n",
       "         'relationship': 216,\n",
       "         'validly': 6,\n",
       "         'characterize': 30,\n",
       "         'close': 513,\n",
       "         'knit': 4,\n",
       "         'appelation': 3,\n",
       "         'use': 5067,\n",
       "         'drugs': 364,\n",
       "         'inject': 17,\n",
       "         'high': 1198,\n",
       "         'freaks': 11,\n",
       "         'emotional': 83,\n",
       "         'retain': 36,\n",
       "         'upper': 89,\n",
       "         'hand': 802,\n",
       "         'even': 4229,\n",
       "         'invalidate': 8,\n",
       "         'foundation': 164,\n",
       "         'these': 4693,\n",
       "         'things': 2318,\n",
       "         'flow': 120,\n",
       "         'pities': 2,\n",
       "         'millions': 140,\n",
       "         'lives': 407,\n",
       "         'wars': 139,\n",
       "         'small': 1018,\n",
       "         'guilty': 192,\n",
       "         'association': 187,\n",
       "         'forces': 254,\n",
       "         'upon': 689,\n",
       "         'nonbeliever': 6,\n",
       "         'blind': 110,\n",
       "         ...})"
      ]
     },
     "execution_count": 423,
     "metadata": {},
     "output_type": "execute_result"
    }
   ],
   "source": [
    "cnts"
   ]
  }
 ],
 "metadata": {
  "kernelspec": {
   "display_name": "Python [conda root]",
   "language": "python",
   "name": "conda-root-py"
  },
  "language_info": {
   "codemirror_mode": {
    "name": "ipython",
    "version": 3
   },
   "file_extension": ".py",
   "mimetype": "text/x-python",
   "name": "python",
   "nbconvert_exporter": "python",
   "pygments_lexer": "ipython3",
   "version": "3.6.4"
  }
 },
 "nbformat": 4,
 "nbformat_minor": 2
}
